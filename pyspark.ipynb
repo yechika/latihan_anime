{
  "nbformat": 4,
  "nbformat_minor": 0,
  "metadata": {
    "colab": {
      "provenance": [],
      "authorship_tag": "ABX9TyOtJhLZPchOBDQ2DfviBADI"
    },
    "kernelspec": {
      "name": "python3",
      "display_name": "Python 3"
    },
    "language_info": {
      "name": "python"
    }
  },
  "cells": [
    {
      "cell_type": "code",
      "execution_count": null,
      "metadata": {
        "colab": {
          "base_uri": "https://localhost:8080/"
        },
        "id": "fYiTjLrvrtBm",
        "outputId": "9b6df3ca-0a04-4b8e-8aad-5fd36b896539"
      },
      "outputs": [
        {
          "output_type": "stream",
          "name": "stdout",
          "text": [
            "Requirement already satisfied: pyspark in /usr/local/lib/python3.11/dist-packages (3.5.1)\n",
            "Requirement already satisfied: py4j==0.10.9.7 in /usr/local/lib/python3.11/dist-packages (from pyspark) (0.10.9.7)\n"
          ]
        }
      ],
      "source": [
        "!pip install pyspark"
      ]
    },
    {
      "cell_type": "code",
      "source": [
        "from pyspark.sql.functions import *\n",
        "from pyspark.sql import SparkSession"
      ],
      "metadata": {
        "id": "1nVGjVfjr9fY"
      },
      "execution_count": null,
      "outputs": []
    },
    {
      "cell_type": "code",
      "source": [
        "spark = SparkSession.builder.getOrCreate()"
      ],
      "metadata": {
        "id": "dvx4o78IsA5k"
      },
      "execution_count": null,
      "outputs": []
    },
    {
      "cell_type": "code",
      "source": [
        "from pyspark.ml.recommendation import ALS\n",
        "from pyspark.ml.evaluation import RegressionEvaluator"
      ],
      "metadata": {
        "id": "HWxzylE0sIYZ"
      },
      "execution_count": null,
      "outputs": []
    },
    {
      "cell_type": "code",
      "source": [
        "\n",
        "df = spark.read.csv(\n",
        "    \"anime-dataset-2023.csv\",\n",
        "    header=True,\n",
        "    inferSchema=True,\n",
        "    escape='\"',\n",
        "    multiLine=True\n",
        ")\n",
        "\n",
        "print(\"Verifikasi data setelah perbaikan:\")\n",
        "df.show(5)\n",
        "\n",
        "print(\"Membagi data menjadi 80% training dan 20% testing...\")\n",
        "df_train, df_test = df.randomSplit([0.8, 0.2], seed=42)\n",
        "\n",
        "total_count = df.count()\n",
        "train_count = df_train.count()\n",
        "test_count = df_test.count()\n",
        "\n",
        "print(f\"\\nTotal data keseluruhan: {total_count}\")\n",
        "print(f\"Jumlah data training: {train_count} (~{train_count/total_count:.2%})\")\n",
        "print(f\"Jumlah data testing: {test_count} (~{test_count/total_count:.2%})\")\n",
        "\n",
        "print(\"\\nContoh data training:\")\n",
        "df_train.show(5)"
      ],
      "metadata": {
        "colab": {
          "base_uri": "https://localhost:8080/"
        },
        "id": "O7Vu4_9xsUF9",
        "outputId": "311fe5aa-c51e-4ece-afce-26ddfb4d789c"
      },
      "execution_count": null,
      "outputs": [
        {
          "output_type": "stream",
          "name": "stdout",
          "text": [
            "Verifikasi data setelah perbaikan:\n",
            "+--------+--------------------+--------------------+---------------------------+-----+--------------------+--------------------+-----+--------+--------------------+-----------+---------------+--------------------+--------------------+--------------+--------+-------------+--------------------+------+----------+---------+---------+-------+--------------------+\n",
            "|anime_id|                Name|        English name|                 Other name|Score|              Genres|            Synopsis| Type|Episodes|               Aired|  Premiered|         Status|           Producers|           Licensors|       Studios|  Source|     Duration|              Rating|  Rank|Popularity|Favorites|Scored By|Members|           Image URL|\n",
            "+--------+--------------------+--------------------+---------------------------+-----+--------------------+--------------------+-----+--------+--------------------+-----------+---------------+--------------------+--------------------+--------------+--------+-------------+--------------------+------+----------+---------+---------+-------+--------------------+\n",
            "|       1|        Cowboy Bebop|        Cowboy Bebop|         カウボーイビバップ| 8.75|Action, Award Win...|Crime is timeless...|   TV|    26.0|Apr 3, 1998 to Ap...|spring 1998|Finished Airing|       Bandai Visual|Funimation, Banda...|       Sunrise|Original|24 min per ep|R - 17+ (violence...|  41.0|        43|    78525| 914193.0|1771505|https://cdn.myani...|\n",
            "|       5|Cowboy Bebop: Ten...|Cowboy Bebop: The...|カウボーイビバップ 天国の扉| 8.38|      Action, Sci-Fi|Another day, anot...|Movie|     1.0|         Sep 1, 2001|    UNKNOWN|Finished Airing|Sunrise, Bandai V...|Sony Pictures Ent...|         Bones|Original|  1 hr 55 min|R - 17+ (violence...| 189.0|       602|     1448| 206248.0| 360978|https://cdn.myani...|\n",
            "|       6|              Trigun|              Trigun|                 トライガン| 8.22|Action, Adventure...|Vash the Stampede...|   TV|    26.0|Apr 1, 1998 to Se...|spring 1998|Finished Airing|Victor Entertainment|Funimation, Geneo...|      Madhouse|   Manga|24 min per ep|PG-13 - Teens 13 ...| 328.0|       246|    15035| 356739.0| 727252|https://cdn.myani...|\n",
            "|       7|  Witch Hunter Robin|  Witch Hunter Robin|       Witch Hunter ROBI...| 7.25|Action, Drama, My...|Robin Sena is a p...|   TV|    26.0|Jul 3, 2002 to De...|summer 2002|Finished Airing|Bandai Visual, De...|Funimation, Banda...|       Sunrise|Original|25 min per ep|PG-13 - Teens 13 ...|2764.0|      1795|      613|  42829.0| 111931|https://cdn.myani...|\n",
            "|       8|      Bouken Ou Beet|Beet the Vandel B...|               冒険王ビィト| 6.94|Adventure, Fantas...|It is the dark ce...|   TV|    52.0|Sep 30, 2004 to S...|  fall 2004|Finished Airing|    TV Tokyo, Dentsu|Illumitoon Entert...|Toei Animation|   Manga|23 min per ep|       PG - Children|4240.0|      5126|       14|   6413.0|  15001|https://cdn.myani...|\n",
            "+--------+--------------------+--------------------+---------------------------+-----+--------------------+--------------------+-----+--------+--------------------+-----------+---------------+--------------------+--------------------+--------------+--------+-------------+--------------------+------+----------+---------+---------+-------+--------------------+\n",
            "only showing top 5 rows\n",
            "\n",
            "Membagi data menjadi 80% training dan 20% testing...\n",
            "\n",
            "Total data keseluruhan: 24905\n",
            "Jumlah data training: 19946 (~80.09%)\n",
            "Jumlah data testing: 4959 (~19.91%)\n",
            "\n",
            "Contoh data training:\n",
            "+--------+--------------------+--------------------+---------------------------+-----+--------------------+--------------------+-----+--------+--------------------+-----------+---------------+--------------------+--------------------+--------------+--------+-------------+--------------------+------+----------+---------+---------+-------+--------------------+\n",
            "|anime_id|                Name|        English name|                 Other name|Score|              Genres|            Synopsis| Type|Episodes|               Aired|  Premiered|         Status|           Producers|           Licensors|       Studios|  Source|     Duration|              Rating|  Rank|Popularity|Favorites|Scored By|Members|           Image URL|\n",
            "+--------+--------------------+--------------------+---------------------------+-----+--------------------+--------------------+-----+--------+--------------------+-----------+---------------+--------------------+--------------------+--------------+--------+-------------+--------------------+------+----------+---------+---------+-------+--------------------+\n",
            "|       1|        Cowboy Bebop|        Cowboy Bebop|         カウボーイビバップ| 8.75|Action, Award Win...|Crime is timeless...|   TV|    26.0|Apr 3, 1998 to Ap...|spring 1998|Finished Airing|       Bandai Visual|Funimation, Banda...|       Sunrise|Original|24 min per ep|R - 17+ (violence...|  41.0|        43|    78525| 914193.0|1771505|https://cdn.myani...|\n",
            "|       5|Cowboy Bebop: Ten...|Cowboy Bebop: The...|カウボーイビバップ 天国の扉| 8.38|      Action, Sci-Fi|Another day, anot...|Movie|     1.0|         Sep 1, 2001|    UNKNOWN|Finished Airing|Sunrise, Bandai V...|Sony Pictures Ent...|         Bones|Original|  1 hr 55 min|R - 17+ (violence...| 189.0|       602|     1448| 206248.0| 360978|https://cdn.myani...|\n",
            "|       7|  Witch Hunter Robin|  Witch Hunter Robin|       Witch Hunter ROBI...| 7.25|Action, Drama, My...|Robin Sena is a p...|   TV|    26.0|Jul 3, 2002 to De...|summer 2002|Finished Airing|Bandai Visual, De...|Funimation, Banda...|       Sunrise|Original|25 min per ep|PG-13 - Teens 13 ...|2764.0|      1795|      613|  42829.0| 111931|https://cdn.myani...|\n",
            "|       8|      Bouken Ou Beet|Beet the Vandel B...|               冒険王ビィト| 6.94|Adventure, Fantas...|It is the dark ce...|   TV|    52.0|Sep 30, 2004 to S...|  fall 2004|Finished Airing|    TV Tokyo, Dentsu|Illumitoon Entert...|Toei Animation|   Manga|23 min per ep|       PG - Children|4240.0|      5126|       14|   6413.0|  15001|https://cdn.myani...|\n",
            "|      15|        Eyeshield 21|             UNKNOWN|             アイシールド21| 7.92|              Sports|Shy, reserved, an...|   TV|   145.0|Apr 6, 2005 to Ma...|spring 2005|Finished Airing|TV Tokyo, Nihon A...|VIZ Media, Sentai...|        Gallop|   Manga|23 min per ep|PG-13 - Teens 13 ...| 688.0|      1252|     1997|  86524.0| 177688|https://cdn.myani...|\n",
            "+--------+--------------------+--------------------+---------------------------+-----+--------------------+--------------------+-----+--------+--------------------+-----------+---------------+--------------------+--------------------+--------------+--------+-------------+--------------------+------+----------+---------+---------+-------+--------------------+\n",
            "only showing top 5 rows\n",
            "\n"
          ]
        }
      ]
    },
    {
      "cell_type": "code",
      "source": [
        "from pyspark.sql.functions import mean, col, when\n",
        "\n",
        "df = df.withColumn(\"Score\", when(col(\"Score\") == \"UNKNOWN\", None).otherwise(col(\"Score\")).cast(\"float\"))\n",
        "mean_score = df.select(mean(col(\"Score\"))).first()[0]\n",
        "df_imputed = df.fillna(mean_score, subset=[\"Score\"])\n",
        "\n",
        "df_imputed = df_imputed.fillna(\"Missing\", subset=[\"Studios\"])\n",
        "\n",
        "df_imputed.show(5)"
      ],
      "metadata": {
        "colab": {
          "base_uri": "https://localhost:8080/"
        },
        "id": "oFA23qZ7NPrj",
        "outputId": "4a802e2a-56e1-4e3f-8af7-3b95526cc69b"
      },
      "execution_count": null,
      "outputs": [
        {
          "output_type": "stream",
          "name": "stdout",
          "text": [
            "+--------+--------------------+--------------------+---------------------------+-----+--------------------+--------------------+-----+--------+--------------------+-----------+---------------+--------------------+--------------------+--------------+--------+-------------+--------------------+------+----------+---------+---------+-------+--------------------+\n",
            "|anime_id|                Name|        English name|                 Other name|Score|              Genres|            Synopsis| Type|Episodes|               Aired|  Premiered|         Status|           Producers|           Licensors|       Studios|  Source|     Duration|              Rating|  Rank|Popularity|Favorites|Scored By|Members|           Image URL|\n",
            "+--------+--------------------+--------------------+---------------------------+-----+--------------------+--------------------+-----+--------+--------------------+-----------+---------------+--------------------+--------------------+--------------+--------+-------------+--------------------+------+----------+---------+---------+-------+--------------------+\n",
            "|       1|        Cowboy Bebop|        Cowboy Bebop|         カウボーイビバップ| 8.75|Action, Award Win...|Crime is timeless...|   TV|    26.0|Apr 3, 1998 to Ap...|spring 1998|Finished Airing|       Bandai Visual|Funimation, Banda...|       Sunrise|Original|24 min per ep|R - 17+ (violence...|  41.0|        43|    78525| 914193.0|1771505|https://cdn.myani...|\n",
            "|       5|Cowboy Bebop: Ten...|Cowboy Bebop: The...|カウボーイビバップ 天国の扉| 8.38|      Action, Sci-Fi|Another day, anot...|Movie|     1.0|         Sep 1, 2001|    UNKNOWN|Finished Airing|Sunrise, Bandai V...|Sony Pictures Ent...|         Bones|Original|  1 hr 55 min|R - 17+ (violence...| 189.0|       602|     1448| 206248.0| 360978|https://cdn.myani...|\n",
            "|       6|              Trigun|              Trigun|                 トライガン| 8.22|Action, Adventure...|Vash the Stampede...|   TV|    26.0|Apr 1, 1998 to Se...|spring 1998|Finished Airing|Victor Entertainment|Funimation, Geneo...|      Madhouse|   Manga|24 min per ep|PG-13 - Teens 13 ...| 328.0|       246|    15035| 356739.0| 727252|https://cdn.myani...|\n",
            "|       7|  Witch Hunter Robin|  Witch Hunter Robin|       Witch Hunter ROBI...| 7.25|Action, Drama, My...|Robin Sena is a p...|   TV|    26.0|Jul 3, 2002 to De...|summer 2002|Finished Airing|Bandai Visual, De...|Funimation, Banda...|       Sunrise|Original|25 min per ep|PG-13 - Teens 13 ...|2764.0|      1795|      613|  42829.0| 111931|https://cdn.myani...|\n",
            "|       8|      Bouken Ou Beet|Beet the Vandel B...|               冒険王ビィト| 6.94|Adventure, Fantas...|It is the dark ce...|   TV|    52.0|Sep 30, 2004 to S...|  fall 2004|Finished Airing|    TV Tokyo, Dentsu|Illumitoon Entert...|Toei Animation|   Manga|23 min per ep|       PG - Children|4240.0|      5126|       14|   6413.0|  15001|https://cdn.myani...|\n",
            "+--------+--------------------+--------------------+---------------------------+-----+--------------------+--------------------+-----+--------+--------------------+-----------+---------------+--------------------+--------------------+--------------+--------+-------------+--------------------+------+----------+---------+---------+-------+--------------------+\n",
            "only showing top 5 rows\n",
            "\n"
          ]
        }
      ]
    },
    {
      "cell_type": "code",
      "source": [
        "df_train.show()"
      ],
      "metadata": {
        "colab": {
          "base_uri": "https://localhost:8080/"
        },
        "id": "WyiubimTtE1S",
        "outputId": "7a6e5595-972e-4ea6-f348-25d57e7e9949"
      },
      "execution_count": null,
      "outputs": [
        {
          "output_type": "stream",
          "name": "stdout",
          "text": [
            "+--------+--------------------+--------------------+--------------------------------------+-----+--------------------+--------------------+-----+--------+--------------------+-----------+----------------+--------------------+--------------------+--------------------+-----------+-------------+--------------------+------+----------+---------+---------+-------+--------------------+\n",
            "|anime_id|                Name|        English name|                            Other name|Score|              Genres|            Synopsis| Type|Episodes|               Aired|  Premiered|          Status|           Producers|           Licensors|             Studios|     Source|     Duration|              Rating|  Rank|Popularity|Favorites|Scored By|Members|           Image URL|\n",
            "+--------+--------------------+--------------------+--------------------------------------+-----+--------------------+--------------------+-----+--------+--------------------+-----------+----------------+--------------------+--------------------+--------------------+-----------+-------------+--------------------+------+----------+---------+---------+-------+--------------------+\n",
            "|       1|        Cowboy Bebop|        Cowboy Bebop|                    カウボーイビバップ| 8.75|Action, Award Win...|Crime is timeless...|   TV|    26.0|Apr 3, 1998 to Ap...|spring 1998| Finished Airing|       Bandai Visual|Funimation, Banda...|             Sunrise|   Original|24 min per ep|R - 17+ (violence...|  41.0|        43|    78525| 914193.0|1771505|https://cdn.myani...|\n",
            "|       5|Cowboy Bebop: Ten...|Cowboy Bebop: The...|           カウボーイビバップ 天国の扉| 8.38|      Action, Sci-Fi|Another day, anot...|Movie|     1.0|         Sep 1, 2001|    UNKNOWN| Finished Airing|Sunrise, Bandai V...|Sony Pictures Ent...|               Bones|   Original|  1 hr 55 min|R - 17+ (violence...| 189.0|       602|     1448| 206248.0| 360978|https://cdn.myani...|\n",
            "|       7|  Witch Hunter Robin|  Witch Hunter Robin|                  Witch Hunter ROBI...| 7.25|Action, Drama, My...|Robin Sena is a p...|   TV|    26.0|Jul 3, 2002 to De...|summer 2002| Finished Airing|Bandai Visual, De...|Funimation, Banda...|             Sunrise|   Original|25 min per ep|PG-13 - Teens 13 ...|2764.0|      1795|      613|  42829.0| 111931|https://cdn.myani...|\n",
            "|       8|      Bouken Ou Beet|Beet the Vandel B...|                          冒険王ビィト| 6.94|Adventure, Fantas...|It is the dark ce...|   TV|    52.0|Sep 30, 2004 to S...|  fall 2004| Finished Airing|    TV Tokyo, Dentsu|Illumitoon Entert...|      Toei Animation|      Manga|23 min per ep|       PG - Children|4240.0|      5126|       14|   6413.0|  15001|https://cdn.myani...|\n",
            "|      15|        Eyeshield 21|             UNKNOWN|                        アイシールド21| 7.92|              Sports|Shy, reserved, an...|   TV|   145.0|Apr 6, 2005 to Ma...|spring 2005| Finished Airing|TV Tokyo, Nihon A...|VIZ Media, Sentai...|              Gallop|      Manga|23 min per ep|PG-13 - Teens 13 ...| 688.0|      1252|     1997|  86524.0| 177688|https://cdn.myani...|\n",
            "|      17|Hungry Heart: Wil...|             UNKNOWN|          ハングリーハート Wild Str...| 7.55|Comedy, Slice of ...|As the younger br...|   TV|    52.0|Sep 11, 2002 to S...|  fall 2002| Finished Airing|             UNKNOWN|             UNKNOWN|    Nippon Animation|      Manga|23 min per ep|PG-13 - Teens 13 ...|1551.0|      4212|      237|  12960.0|  24172|https://cdn.myani...|\n",
            "|      19|             Monster|             Monster|                            モンスター| 8.87|Drama, Mystery, S...|Dr. Kenzou Tenma,...|   TV|    74.0|Apr 7, 2004 to Se...|spring 2004| Finished Airing|VAP, Shogakukan-S...|           VIZ Media|            Madhouse|      Manga|24 min per ep|    R+ - Mild Nudity|  26.0|       142|    47235| 368569.0|1013100|https://cdn.myani...|\n",
            "|      20|              Naruto|              Naruto|                                ナルト| 7.99|Action, Adventure...|Moments prior to ...|   TV|   220.0|Oct 3, 2002 to Fe...|  fall 2002| Finished Airing|TV Tokyo, Aniplex...|           VIZ Media|             Pierrot|      Manga|23 min per ep|PG-13 - Teens 13 ...| 599.0|         8|    76343|1883772.0|2717330|https://cdn.myani...|\n",
            "|      21|           One Piece|           One Piece|                             ONE PIECE| 8.69|Action, Adventure...|Gol D. Roger was ...|   TV| UNKNOWN|   Oct 20, 1999 to ?|  fall 1999|Currently Airing|Fuji TV, TAP, Shu...|Funimation, 4Kids...|      Toei Animation|      Manga|       24 min|PG-13 - Teens 13 ...|  55.0|        20|   198986|1226493.0|2168904|https://cdn.myani...|\n",
            "|      22| Tennis no Ouji-sama|The Prince of Tennis|                        テニスの王子様| 7.86|              Sports|At the request of...|   TV|   178.0|Oct 10, 2001 to M...|  fall 2001| Finished Airing|Production I.G, N...|Funimation, VIZ M...|          Trans Arts|      Manga|22 min per ep|PG-13 - Teens 13 ...| 805.0|      1246|     3004|  81992.0| 178273|https://cdn.myani...|\n",
            "|      24|       School Rumble|       School Rumble|                      スクールランブル| 7.89|     Comedy, Romance|Just the words \"I...|   TV|    26.0|Oct 5, 2004 to Ma...|  fall 2004| Finished Airing|TV Tokyo, Sotsu, ...|          Funimation|        Studio Comet|      Manga|23 min per ep|PG-13 - Teens 13 ...| 756.0|       687|     5139| 146597.0| 320203|https://cdn.myani...|\n",
            "|      25|           Sunabouzu|         Desert Punk|                              砂ぼうず| 7.38|Action, Adventure...|The Great Kanto D...|   TV|    24.0|Oct 6, 2004 to Ma...|  fall 2004| Finished Airing|GDH, Pony Canyon,...|          Funimation|               Gonzo|      Manga|24 min per ep|R - 17+ (violence...|2167.0|      1546|      822|  53709.0| 134894|https://cdn.myani...|\n",
            "|      26|          Texhnolyze|          Texhnolyze|                            TEXHNOLYZE| 7.76|Action, Drama, Sc...|In the dark under...|   TV|    22.0|Apr 17, 2003 to S...|spring 2003| Finished Airing|Group TAC, Rondo ...|Funimation, Geneo...|            Madhouse|   Original|23 min per ep|    R+ - Mild Nudity| 990.0|       935|     4786|  54857.0| 239423|https://cdn.myani...|\n",
            "|      27|       Trinity Blood|       Trinity Blood|                  トリニティ・ブラッド| 7.29|Action, Supernatural|Following Armaged...|   TV|    24.0|Apr 29, 2005 to O...|spring 2005| Finished Airing|             UNKNOWN|          Funimation|               Gonzo|Light novel|24 min per ep|R - 17+ (violence...|2591.0|      1233|     1298|  79130.0| 179583|https://cdn.myani...|\n",
            "|      28|    Yakitate!! Japan|    Yakitate!! Japan|                   焼きたて!! ジャぱん| 7.91|     Comedy, Gourmet|While countries s...|   TV|    69.0|Oct 12, 2004 to M...|  fall 2004| Finished Airing|TV Tokyo, Aniplex...|Nozomi Entertainment|             Sunrise|      Manga|24 min per ep|PG-13 - Teens 13 ...| 704.0|      1992|      897|  40492.0|  95380|https://cdn.myani...|\n",
            "|      30|Neon Genesis Evan...|Neon Genesis Evan...|                新世紀エヴァンゲリオン| 8.35|Action, Avant Gar...|Fifteen years aft...|   TV|    26.0|Oct 4, 1995 to Ma...|  fall 1995| Finished Airing|TV Tokyo, Kadokaw...|    ADV Films, GKIDS|Gainax, Tatsunoko...|   Original|24 min per ep|PG-13 - Teens 13 ...| 204.0|        45|   100638|1024927.0|1718019|https://cdn.myani...|\n",
            "|      31|Neon Genesis Evan...|Neon Genesis Evan...|新世紀エヴァンゲリオン劇場版 シト新生| 7.46|       Drama, Sci-Fi|In the year 2015,...|Movie|     1.0|        Mar 15, 1997|    UNKNOWN| Finished Airing|Movic, Sega, TV T...|GKIDS, Manga Ente...|Gainax, Productio...|   Original|  1 hr 44 min|R - 17+ (violence...|1855.0|       889|      687| 140233.0| 251617|https://cdn.myani...|\n",
            "|      32|Neon Genesis Evan...|Neon Genesis Evan...|    新世紀エヴァンゲリオン劇場版 TH...| 8.55|Avant Garde, Dram...|Shinji Ikari is l...|Movie|     1.0|        Jul 19, 1997|    UNKNOWN| Finished Airing|TV Tokyo, Toei An...|GKIDS, Manga Ente...|Gainax, Productio...|   Original|  1 hr 26 min|    R+ - Mild Nudity|  98.0|       177|    27272| 586441.0| 879361|https://cdn.myani...|\n",
            "|      43|    Koukaku Kidoutai|  Ghost in the Shell|                  GHOST IN THE SHEL...| 8.27|Action, Award Win...|In the year 2029,...|Movie|     1.0|        Nov 18, 1995|    UNKNOWN| Finished Airing|Bandai Visual, Ko...| Manga Entertainment|      Production I.G|      Manga|  1 hr 22 min|    R+ - Mild Nudity| 276.0|       329|    12339| 315593.0| 604276|https://cdn.myani...|\n",
            "|      44|Rurouni Kenshin: ...|Samurai X: Trust ...|    るろうに剣心―明治剣客浪漫譚―追憶編| 8.71|Action, Drama, Ro...|When mankind's sa...|  OVA|     4.0|Feb 20, 1999 to S...|    UNKNOWN| Finished Airing|             Aniplex|ADV Films, Aniple...|         Studio Deen|      Manga|29 min per ep|R - 17+ (violence...|  48.0|       834|     6137| 134133.0| 268621|https://cdn.myani...|\n",
            "+--------+--------------------+--------------------+--------------------------------------+-----+--------------------+--------------------+-----+--------+--------------------+-----------+----------------+--------------------+--------------------+--------------------+-----------+-------------+--------------------+------+----------+---------+---------+-------+--------------------+\n",
            "only showing top 20 rows\n",
            "\n"
          ]
        }
      ]
    },
    {
      "cell_type": "code",
      "metadata": {
        "colab": {
          "base_uri": "https://localhost:8080/"
        },
        "id": "19e0f2a9",
        "outputId": "0e450683-b343-4def-bc65-2dd307ce8668"
      },
      "source": [
        "columns_to_drop = [\n",
        "    \"Synopsis\",\n",
        "    \"Other name\",\n",
        "    \"Producers\",\n",
        "    \"Licensors\",\n",
        "    \"Aired\",\n",
        "    \"Premiered\",\n",
        "    \"Rank\",\n",
        "    \"Scored By\",\n",
        "    \"Members\"\n",
        "]\n",
        "\n",
        "df_train = df_train.drop(*columns_to_drop)\n",
        "df_test = df_test.drop(*columns_to_drop)\n",
        "\n",
        "print(\"Columns in df_train after dropping:\")\n",
        "print(df_train.columns)\n",
        "\n",
        "print(\"\\nColumns in df_test after dropping:\")\n",
        "print(df_test.columns)"
      ],
      "execution_count": null,
      "outputs": [
        {
          "output_type": "stream",
          "name": "stdout",
          "text": [
            "Columns in df_train after dropping:\n",
            "['anime_id', 'Name', 'English name', 'Score', 'Genres', 'Type', 'Episodes', 'Status', 'Studios', 'Source', 'Duration', 'Rating', 'Popularity', 'Favorites', 'Image URL']\n",
            "\n",
            "Columns in df_test after dropping:\n",
            "['anime_id', 'Name', 'English name', 'Score', 'Genres', 'Type', 'Episodes', 'Status', 'Studios', 'Source', 'Duration', 'Rating', 'Popularity', 'Favorites', 'Image URL']\n"
          ]
        }
      ]
    },
    {
      "cell_type": "code",
      "source": [
        "df_train.show()"
      ],
      "metadata": {
        "colab": {
          "base_uri": "https://localhost:8080/"
        },
        "id": "e3BCiBDPuyEQ",
        "outputId": "6845b29f-a885-4f5a-f699-ed22402960eb"
      },
      "execution_count": null,
      "outputs": [
        {
          "output_type": "stream",
          "name": "stdout",
          "text": [
            "+--------+--------------------+--------------------+-----+--------------------+-----+--------+----------------+--------------------+-----------+-------------+--------------------+----------+---------+--------------------+\n",
            "|anime_id|                Name|        English name|Score|              Genres| Type|Episodes|          Status|             Studios|     Source|     Duration|              Rating|Popularity|Favorites|           Image URL|\n",
            "+--------+--------------------+--------------------+-----+--------------------+-----+--------+----------------+--------------------+-----------+-------------+--------------------+----------+---------+--------------------+\n",
            "|       1|        Cowboy Bebop|        Cowboy Bebop| 8.75|Action, Award Win...|   TV|    26.0| Finished Airing|             Sunrise|   Original|24 min per ep|R - 17+ (violence...|        43|    78525|https://cdn.myani...|\n",
            "|       5|Cowboy Bebop: Ten...|Cowboy Bebop: The...| 8.38|      Action, Sci-Fi|Movie|     1.0| Finished Airing|               Bones|   Original|  1 hr 55 min|R - 17+ (violence...|       602|     1448|https://cdn.myani...|\n",
            "|       7|  Witch Hunter Robin|  Witch Hunter Robin| 7.25|Action, Drama, My...|   TV|    26.0| Finished Airing|             Sunrise|   Original|25 min per ep|PG-13 - Teens 13 ...|      1795|      613|https://cdn.myani...|\n",
            "|       8|      Bouken Ou Beet|Beet the Vandel B...| 6.94|Adventure, Fantas...|   TV|    52.0| Finished Airing|      Toei Animation|      Manga|23 min per ep|       PG - Children|      5126|       14|https://cdn.myani...|\n",
            "|      15|        Eyeshield 21|             UNKNOWN| 7.92|              Sports|   TV|   145.0| Finished Airing|              Gallop|      Manga|23 min per ep|PG-13 - Teens 13 ...|      1252|     1997|https://cdn.myani...|\n",
            "|      17|Hungry Heart: Wil...|             UNKNOWN| 7.55|Comedy, Slice of ...|   TV|    52.0| Finished Airing|    Nippon Animation|      Manga|23 min per ep|PG-13 - Teens 13 ...|      4212|      237|https://cdn.myani...|\n",
            "|      19|             Monster|             Monster| 8.87|Drama, Mystery, S...|   TV|    74.0| Finished Airing|            Madhouse|      Manga|24 min per ep|    R+ - Mild Nudity|       142|    47235|https://cdn.myani...|\n",
            "|      20|              Naruto|              Naruto| 7.99|Action, Adventure...|   TV|   220.0| Finished Airing|             Pierrot|      Manga|23 min per ep|PG-13 - Teens 13 ...|         8|    76343|https://cdn.myani...|\n",
            "|      21|           One Piece|           One Piece| 8.69|Action, Adventure...|   TV| UNKNOWN|Currently Airing|      Toei Animation|      Manga|       24 min|PG-13 - Teens 13 ...|        20|   198986|https://cdn.myani...|\n",
            "|      22| Tennis no Ouji-sama|The Prince of Tennis| 7.86|              Sports|   TV|   178.0| Finished Airing|          Trans Arts|      Manga|22 min per ep|PG-13 - Teens 13 ...|      1246|     3004|https://cdn.myani...|\n",
            "|      24|       School Rumble|       School Rumble| 7.89|     Comedy, Romance|   TV|    26.0| Finished Airing|        Studio Comet|      Manga|23 min per ep|PG-13 - Teens 13 ...|       687|     5139|https://cdn.myani...|\n",
            "|      25|           Sunabouzu|         Desert Punk| 7.38|Action, Adventure...|   TV|    24.0| Finished Airing|               Gonzo|      Manga|24 min per ep|R - 17+ (violence...|      1546|      822|https://cdn.myani...|\n",
            "|      26|          Texhnolyze|          Texhnolyze| 7.76|Action, Drama, Sc...|   TV|    22.0| Finished Airing|            Madhouse|   Original|23 min per ep|    R+ - Mild Nudity|       935|     4786|https://cdn.myani...|\n",
            "|      27|       Trinity Blood|       Trinity Blood| 7.29|Action, Supernatural|   TV|    24.0| Finished Airing|               Gonzo|Light novel|24 min per ep|R - 17+ (violence...|      1233|     1298|https://cdn.myani...|\n",
            "|      28|    Yakitate!! Japan|    Yakitate!! Japan| 7.91|     Comedy, Gourmet|   TV|    69.0| Finished Airing|             Sunrise|      Manga|24 min per ep|PG-13 - Teens 13 ...|      1992|      897|https://cdn.myani...|\n",
            "|      30|Neon Genesis Evan...|Neon Genesis Evan...| 8.35|Action, Avant Gar...|   TV|    26.0| Finished Airing|Gainax, Tatsunoko...|   Original|24 min per ep|PG-13 - Teens 13 ...|        45|   100638|https://cdn.myani...|\n",
            "|      31|Neon Genesis Evan...|Neon Genesis Evan...| 7.46|       Drama, Sci-Fi|Movie|     1.0| Finished Airing|Gainax, Productio...|   Original|  1 hr 44 min|R - 17+ (violence...|       889|      687|https://cdn.myani...|\n",
            "|      32|Neon Genesis Evan...|Neon Genesis Evan...| 8.55|Avant Garde, Dram...|Movie|     1.0| Finished Airing|Gainax, Productio...|   Original|  1 hr 26 min|    R+ - Mild Nudity|       177|    27272|https://cdn.myani...|\n",
            "|      43|    Koukaku Kidoutai|  Ghost in the Shell| 8.27|Action, Award Win...|Movie|     1.0| Finished Airing|      Production I.G|      Manga|  1 hr 22 min|    R+ - Mild Nudity|       329|    12339|https://cdn.myani...|\n",
            "|      44|Rurouni Kenshin: ...|Samurai X: Trust ...| 8.71|Action, Drama, Ro...|  OVA|     4.0| Finished Airing|         Studio Deen|      Manga|29 min per ep|R - 17+ (violence...|       834|     6137|https://cdn.myani...|\n",
            "+--------+--------------------+--------------------+-----+--------------------+-----+--------+----------------+--------------------+-----------+-------------+--------------------+----------+---------+--------------------+\n",
            "only showing top 20 rows\n",
            "\n"
          ]
        }
      ]
    },
    {
      "cell_type": "code",
      "metadata": {
        "colab": {
          "base_uri": "https://localhost:8080/"
        },
        "id": "fad73bd8",
        "outputId": "a59d5ecf-c7dd-47cd-8989-d48a3b2658c4"
      },
      "source": [
        "from pyspark.ml.feature import StringIndexer\n",
        "\n",
        "indexer = StringIndexer(inputCol=\"Source\", outputCol=\"source_encoded\")\n",
        "indexer_model = indexer.fit(df_train)\n",
        "\n",
        "df_train = indexer_model.transform(df_train)\n",
        "df_test = indexer_model.transform(df_test)\n",
        "\n",
        "df_train.show(5)\n",
        "df_test.show(5)"
      ],
      "execution_count": null,
      "outputs": [
        {
          "output_type": "stream",
          "name": "stdout",
          "text": [
            "+--------+--------------------+--------------------+-----+--------------------+-----+--------+---------------+--------------+--------+-------------+--------------------+----------+---------+--------------------+--------------+\n",
            "|anime_id|                Name|        English name|Score|              Genres| Type|Episodes|         Status|       Studios|  Source|     Duration|              Rating|Popularity|Favorites|           Image URL|source_encoded|\n",
            "+--------+--------------------+--------------------+-----+--------------------+-----+--------+---------------+--------------+--------+-------------+--------------------+----------+---------+--------------------+--------------+\n",
            "|       1|        Cowboy Bebop|        Cowboy Bebop| 8.75|Action, Award Win...|   TV|    26.0|Finished Airing|       Sunrise|Original|24 min per ep|R - 17+ (violence...|        43|    78525|https://cdn.myani...|           0.0|\n",
            "|       5|Cowboy Bebop: Ten...|Cowboy Bebop: The...| 8.38|      Action, Sci-Fi|Movie|     1.0|Finished Airing|         Bones|Original|  1 hr 55 min|R - 17+ (violence...|       602|     1448|https://cdn.myani...|           0.0|\n",
            "|       7|  Witch Hunter Robin|  Witch Hunter Robin| 7.25|Action, Drama, My...|   TV|    26.0|Finished Airing|       Sunrise|Original|25 min per ep|PG-13 - Teens 13 ...|      1795|      613|https://cdn.myani...|           0.0|\n",
            "|       8|      Bouken Ou Beet|Beet the Vandel B...| 6.94|Adventure, Fantas...|   TV|    52.0|Finished Airing|Toei Animation|   Manga|23 min per ep|       PG - Children|      5126|       14|https://cdn.myani...|           1.0|\n",
            "|      15|        Eyeshield 21|             UNKNOWN| 7.92|              Sports|   TV|   145.0|Finished Airing|        Gallop|   Manga|23 min per ep|PG-13 - Teens 13 ...|      1252|     1997|https://cdn.myani...|           1.0|\n",
            "+--------+--------------------+--------------------+-----+--------------------+-----+--------+---------------+--------------+--------+-------------+--------------------+----------+---------+--------------------+--------------+\n",
            "only showing top 5 rows\n",
            "\n",
            "+--------+--------------------+----------------+-----+--------------------+----+--------+---------------+--------------+------+-------------+--------------------+----------+---------+--------------------+--------------+\n",
            "|anime_id|                Name|    English name|Score|              Genres|Type|Episodes|         Status|       Studios|Source|     Duration|              Rating|Popularity|Favorites|           Image URL|source_encoded|\n",
            "+--------+--------------------+----------------+-----+--------------------+----+--------+---------------+--------------+------+-------------+--------------------+----------+---------+--------------------+--------------+\n",
            "|       6|              Trigun|          Trigun| 8.22|Action, Adventure...|  TV|    26.0|Finished Airing|      Madhouse| Manga|24 min per ep|PG-13 - Teens 13 ...|       246|    15035|https://cdn.myani...|           1.0|\n",
            "|      16|Hachimitsu to Clover|Honey and Clover|  8.0|Comedy, Drama, Ro...|  TV|    24.0|Finished Airing|     J.C.Staff| Manga|23 min per ep|PG-13 - Teens 13 ...|       862|     4136|https://cdn.myani...|           1.0|\n",
            "|      18|Initial D Fourth ...|         UNKNOWN| 8.16|       Action, Drama|  TV|    24.0|Finished Airing|      A.C.G.T.| Manga|27 min per ep|PG-13 - Teens 13 ...|      1273|     1237|https://cdn.myani...|           1.0|\n",
            "|      23|    Ring ni Kakero 1|         UNKNOWN| 6.39|      Action, Sports|  TV|    12.0|Finished Airing|Toei Animation| Manga|25 min per ep|       PG - Children|      8288|        6|https://cdn.myani...|           1.0|\n",
            "|      29|              Zipang|         UNKNOWN| 7.48|Action, Drama, Sc...|  TV|    26.0|Finished Airing|   Studio Deen| Manga|24 min per ep|PG-13 - Teens 13 ...|      4430|      180|https://cdn.myani...|           1.0|\n",
            "+--------+--------------------+----------------+-----+--------------------+----+--------+---------------+--------------+------+-------------+--------------------+----------+---------+--------------------+--------------+\n",
            "only showing top 5 rows\n",
            "\n"
          ]
        }
      ]
    },
    {
      "cell_type": "code",
      "metadata": {
        "colab": {
          "base_uri": "https://localhost:8080/"
        },
        "id": "a6409bcd",
        "outputId": "c4f807f1-3058-4efa-a021-bbfe52b3e0b1"
      },
      "source": [
        "\n",
        "excluded_sources = [\n",
        "    \"4-koma manga\",\n",
        "    \"Book\",\n",
        "    \"Card game\",\n",
        "    \"Game\",\n",
        "    \"Light novel\",\n",
        "    \"Manga\",\n",
        "    \"Mixed media\",\n",
        "    \"Music\",\n",
        "    \"Novel\",\n",
        "    \"Original\",\n",
        "    \"Other\",\n",
        "    \"Picture book\",\n",
        "    \"Radio\",\n",
        "    \"Unknown\",\n",
        "    \"Visual novel\",\n",
        "    \"Web manga\",\n",
        "    \"Web novel\"\n",
        "]\n",
        "\n",
        "anomalies_df = df_train.filter(~df_train[\"Source\"].isin(excluded_sources))\n",
        "\n",
        "print(\"Dataframe with sources outside the specified 17 types:\")\n",
        "anomalies_df.show()"
      ],
      "execution_count": null,
      "outputs": [
        {
          "output_type": "stream",
          "name": "stdout",
          "text": [
            "Dataframe with sources outside the specified 17 types:\n",
            "+--------+----+------------+-----+------+----+--------+------+-------+------+--------+------+----------+---------+---------+--------------+\n",
            "|anime_id|Name|English name|Score|Genres|Type|Episodes|Status|Studios|Source|Duration|Rating|Popularity|Favorites|Image URL|source_encoded|\n",
            "+--------+----+------------+-----+------+----+--------+------+-------+------+--------+------+----------+---------+---------+--------------+\n",
            "+--------+----+------------+-----+------+----+--------+------+-------+------+--------+------+----------+---------+---------+--------------+\n",
            "\n"
          ]
        }
      ]
    },
    {
      "cell_type": "code",
      "metadata": {
        "colab": {
          "base_uri": "https://localhost:8080/"
        },
        "id": "64eefccb",
        "outputId": "eb2c2e92-9397-4100-f090-6b1b098a6a33"
      },
      "source": [
        "\n",
        "allowed_sources = [\n",
        "    \"4-koma manga\",\n",
        "    \"Book\",\n",
        "    \"Card game\",\n",
        "    \"Game\",\n",
        "    \"Light novel\",\n",
        "    \"Manga\",\n",
        "    \"Mixed media\",\n",
        "    \"Music\",\n",
        "    \"Novel\",\n",
        "    \"Original\",\n",
        "    \"Other\",\n",
        "    \"Picture book\",\n",
        "    \"Radio\",\n",
        "    \"Unknown\",\n",
        "    \"Visual novel\",\n",
        "    \"Web manga\",\n",
        "    \"Web novel\"\n",
        "]\n",
        "\n",
        "df_train = df_train.filter(df_train[\"Source\"].isin(allowed_sources))\n",
        "df_test = df_test.filter(df_test[\"Source\"].isin(allowed_sources))\n",
        "\n",
        "print(\"Number of rows in df_train after filtering:\", df_train.count())\n",
        "print(\"Number of rows in df_test after filtering:\", df_test.count())"
      ],
      "execution_count": null,
      "outputs": [
        {
          "output_type": "stream",
          "name": "stdout",
          "text": [
            "Number of rows in df_train after filtering: 19946\n",
            "Number of rows in df_test after filtering: 4959\n"
          ]
        }
      ]
    },
    {
      "cell_type": "code",
      "source": [
        "df_train.show(5)\n",
        "df_test.show(5)"
      ],
      "metadata": {
        "colab": {
          "base_uri": "https://localhost:8080/"
        },
        "id": "mENrZcthyAzE",
        "outputId": "89d84a21-b439-492f-f0fe-f731c3c985e5"
      },
      "execution_count": null,
      "outputs": [
        {
          "output_type": "stream",
          "name": "stdout",
          "text": [
            "+--------+--------------------+--------------------+-----+--------------------+-----+--------+---------------+--------------+--------+-------------+--------------------+----------+---------+--------------------+--------------+\n",
            "|anime_id|                Name|        English name|Score|              Genres| Type|Episodes|         Status|       Studios|  Source|     Duration|              Rating|Popularity|Favorites|           Image URL|source_encoded|\n",
            "+--------+--------------------+--------------------+-----+--------------------+-----+--------+---------------+--------------+--------+-------------+--------------------+----------+---------+--------------------+--------------+\n",
            "|       1|        Cowboy Bebop|        Cowboy Bebop| 8.75|Action, Award Win...|   TV|    26.0|Finished Airing|       Sunrise|Original|24 min per ep|R - 17+ (violence...|        43|    78525|https://cdn.myani...|           0.0|\n",
            "|       5|Cowboy Bebop: Ten...|Cowboy Bebop: The...| 8.38|      Action, Sci-Fi|Movie|     1.0|Finished Airing|         Bones|Original|  1 hr 55 min|R - 17+ (violence...|       602|     1448|https://cdn.myani...|           0.0|\n",
            "|       7|  Witch Hunter Robin|  Witch Hunter Robin| 7.25|Action, Drama, My...|   TV|    26.0|Finished Airing|       Sunrise|Original|25 min per ep|PG-13 - Teens 13 ...|      1795|      613|https://cdn.myani...|           0.0|\n",
            "|       8|      Bouken Ou Beet|Beet the Vandel B...| 6.94|Adventure, Fantas...|   TV|    52.0|Finished Airing|Toei Animation|   Manga|23 min per ep|       PG - Children|      5126|       14|https://cdn.myani...|           1.0|\n",
            "|      15|        Eyeshield 21|             UNKNOWN| 7.92|              Sports|   TV|   145.0|Finished Airing|        Gallop|   Manga|23 min per ep|PG-13 - Teens 13 ...|      1252|     1997|https://cdn.myani...|           1.0|\n",
            "+--------+--------------------+--------------------+-----+--------------------+-----+--------+---------------+--------------+--------+-------------+--------------------+----------+---------+--------------------+--------------+\n",
            "only showing top 5 rows\n",
            "\n",
            "+--------+--------------------+----------------+-----+--------------------+----+--------+---------------+--------------+------+-------------+--------------------+----------+---------+--------------------+--------------+\n",
            "|anime_id|                Name|    English name|Score|              Genres|Type|Episodes|         Status|       Studios|Source|     Duration|              Rating|Popularity|Favorites|           Image URL|source_encoded|\n",
            "+--------+--------------------+----------------+-----+--------------------+----+--------+---------------+--------------+------+-------------+--------------------+----------+---------+--------------------+--------------+\n",
            "|       6|              Trigun|          Trigun| 8.22|Action, Adventure...|  TV|    26.0|Finished Airing|      Madhouse| Manga|24 min per ep|PG-13 - Teens 13 ...|       246|    15035|https://cdn.myani...|           1.0|\n",
            "|      16|Hachimitsu to Clover|Honey and Clover|  8.0|Comedy, Drama, Ro...|  TV|    24.0|Finished Airing|     J.C.Staff| Manga|23 min per ep|PG-13 - Teens 13 ...|       862|     4136|https://cdn.myani...|           1.0|\n",
            "|      18|Initial D Fourth ...|         UNKNOWN| 8.16|       Action, Drama|  TV|    24.0|Finished Airing|      A.C.G.T.| Manga|27 min per ep|PG-13 - Teens 13 ...|      1273|     1237|https://cdn.myani...|           1.0|\n",
            "|      23|    Ring ni Kakero 1|         UNKNOWN| 6.39|      Action, Sports|  TV|    12.0|Finished Airing|Toei Animation| Manga|25 min per ep|       PG - Children|      8288|        6|https://cdn.myani...|           1.0|\n",
            "|      29|              Zipang|         UNKNOWN| 7.48|Action, Drama, Sc...|  TV|    26.0|Finished Airing|   Studio Deen| Manga|24 min per ep|PG-13 - Teens 13 ...|      4430|      180|https://cdn.myani...|           1.0|\n",
            "+--------+--------------------+----------------+-----+--------------------+----+--------+---------------+--------------+------+-------------+--------------------+----------+---------+--------------------+--------------+\n",
            "only showing top 5 rows\n",
            "\n"
          ]
        }
      ]
    },
    {
      "cell_type": "code",
      "metadata": {
        "colab": {
          "base_uri": "https://localhost:8080/"
        },
        "id": "4ed12f64",
        "outputId": "2a00b316-a063-458e-c3af-6eff8df8a25b"
      },
      "source": [
        "\n",
        "df_train = df_train.drop(\"source_encoded\")\n",
        "df_test = df_test.drop(\"source_encoded\")\n",
        "\n",
        "indexer = StringIndexer(inputCol=\"Source\", outputCol=\"source_encoded\")\n",
        "indexer_model = indexer.fit(df_train)\n",
        "\n",
        "df_train = indexer_model.transform(df_train)\n",
        "df_test = indexer_model.transform(df_test)\n",
        "\n",
        "df_train.show(5)\n",
        "df_test.show(5)"
      ],
      "execution_count": null,
      "outputs": [
        {
          "output_type": "stream",
          "name": "stdout",
          "text": [
            "+--------+--------------------+--------------------+-----+--------------------+-----+--------+---------------+--------------+--------+-------------+--------------------+----------+---------+--------------------+--------------+\n",
            "|anime_id|                Name|        English name|Score|              Genres| Type|Episodes|         Status|       Studios|  Source|     Duration|              Rating|Popularity|Favorites|           Image URL|source_encoded|\n",
            "+--------+--------------------+--------------------+-----+--------------------+-----+--------+---------------+--------------+--------+-------------+--------------------+----------+---------+--------------------+--------------+\n",
            "|       1|        Cowboy Bebop|        Cowboy Bebop| 8.75|Action, Award Win...|   TV|    26.0|Finished Airing|       Sunrise|Original|24 min per ep|R - 17+ (violence...|        43|    78525|https://cdn.myani...|           0.0|\n",
            "|       5|Cowboy Bebop: Ten...|Cowboy Bebop: The...| 8.38|      Action, Sci-Fi|Movie|     1.0|Finished Airing|         Bones|Original|  1 hr 55 min|R - 17+ (violence...|       602|     1448|https://cdn.myani...|           0.0|\n",
            "|       7|  Witch Hunter Robin|  Witch Hunter Robin| 7.25|Action, Drama, My...|   TV|    26.0|Finished Airing|       Sunrise|Original|25 min per ep|PG-13 - Teens 13 ...|      1795|      613|https://cdn.myani...|           0.0|\n",
            "|       8|      Bouken Ou Beet|Beet the Vandel B...| 6.94|Adventure, Fantas...|   TV|    52.0|Finished Airing|Toei Animation|   Manga|23 min per ep|       PG - Children|      5126|       14|https://cdn.myani...|           1.0|\n",
            "|      15|        Eyeshield 21|             UNKNOWN| 7.92|              Sports|   TV|   145.0|Finished Airing|        Gallop|   Manga|23 min per ep|PG-13 - Teens 13 ...|      1252|     1997|https://cdn.myani...|           1.0|\n",
            "+--------+--------------------+--------------------+-----+--------------------+-----+--------+---------------+--------------+--------+-------------+--------------------+----------+---------+--------------------+--------------+\n",
            "only showing top 5 rows\n",
            "\n",
            "+--------+--------------------+----------------+-----+--------------------+----+--------+---------------+--------------+------+-------------+--------------------+----------+---------+--------------------+--------------+\n",
            "|anime_id|                Name|    English name|Score|              Genres|Type|Episodes|         Status|       Studios|Source|     Duration|              Rating|Popularity|Favorites|           Image URL|source_encoded|\n",
            "+--------+--------------------+----------------+-----+--------------------+----+--------+---------------+--------------+------+-------------+--------------------+----------+---------+--------------------+--------------+\n",
            "|       6|              Trigun|          Trigun| 8.22|Action, Adventure...|  TV|    26.0|Finished Airing|      Madhouse| Manga|24 min per ep|PG-13 - Teens 13 ...|       246|    15035|https://cdn.myani...|           1.0|\n",
            "|      16|Hachimitsu to Clover|Honey and Clover|  8.0|Comedy, Drama, Ro...|  TV|    24.0|Finished Airing|     J.C.Staff| Manga|23 min per ep|PG-13 - Teens 13 ...|       862|     4136|https://cdn.myani...|           1.0|\n",
            "|      18|Initial D Fourth ...|         UNKNOWN| 8.16|       Action, Drama|  TV|    24.0|Finished Airing|      A.C.G.T.| Manga|27 min per ep|PG-13 - Teens 13 ...|      1273|     1237|https://cdn.myani...|           1.0|\n",
            "|      23|    Ring ni Kakero 1|         UNKNOWN| 6.39|      Action, Sports|  TV|    12.0|Finished Airing|Toei Animation| Manga|25 min per ep|       PG - Children|      8288|        6|https://cdn.myani...|           1.0|\n",
            "|      29|              Zipang|         UNKNOWN| 7.48|Action, Drama, Sc...|  TV|    26.0|Finished Airing|   Studio Deen| Manga|24 min per ep|PG-13 - Teens 13 ...|      4430|      180|https://cdn.myani...|           1.0|\n",
            "+--------+--------------------+----------------+-----+--------------------+----+--------+---------------+--------------+------+-------------+--------------------+----------+---------+--------------------+--------------+\n",
            "only showing top 5 rows\n",
            "\n"
          ]
        }
      ]
    },
    {
      "cell_type": "code",
      "metadata": {
        "colab": {
          "base_uri": "https://localhost:8080/"
        },
        "id": "31768a9d",
        "outputId": "5bd7dea2-6da5-41f3-d165-ee5ca6b7604d"
      },
      "source": [
        "from pyspark.ml.feature import StringIndexer\n",
        "\n",
        "allowed_types = [\n",
        "    \"Movie\",\n",
        "    \"Music\",\n",
        "    \"ONA\",\n",
        "    \"OVA\",\n",
        "    \"Special\",\n",
        "    \"TV\"\n",
        "]\n",
        "\n",
        "df_train = df_train.filter(df_train[\"Type\"].isin(allowed_types))\n",
        "df_test = df_test.filter(df_test[\"Type\"].isin(allowed_types))\n",
        "\n",
        "indexer_type = StringIndexer(inputCol=\"Type\", outputCol=\"type_encoded\")\n",
        "indexer_type_model = indexer_type.fit(df_train)\n",
        "\n",
        "df_train = indexer_type_model.transform(df_train)\n",
        "df_test = indexer_type_model.transform(df_test)\n",
        "\n",
        "\n",
        "print(\"Number of rows in df_train after filtering by Type:\", df_train.count())\n",
        "print(\"Number of rows in df_test after filtering by Type:\", df_test.count())\n",
        "\n",
        "df_train.show(5)\n",
        "df_test.show(5)"
      ],
      "execution_count": null,
      "outputs": [
        {
          "output_type": "stream",
          "name": "stdout",
          "text": [
            "Number of rows in df_train after filtering by Type: 19886\n",
            "Number of rows in df_test after filtering by Type: 4945\n",
            "+--------+--------------------+--------------------+-----+--------------------+-----+--------+---------------+--------------+--------+-------------+--------------------+----------+---------+--------------------+--------------+------------+\n",
            "|anime_id|                Name|        English name|Score|              Genres| Type|Episodes|         Status|       Studios|  Source|     Duration|              Rating|Popularity|Favorites|           Image URL|source_encoded|type_encoded|\n",
            "+--------+--------------------+--------------------+-----+--------------------+-----+--------+---------------+--------------+--------+-------------+--------------------+----------+---------+--------------------+--------------+------------+\n",
            "|       1|        Cowboy Bebop|        Cowboy Bebop| 8.75|Action, Award Win...|   TV|    26.0|Finished Airing|       Sunrise|Original|24 min per ep|R - 17+ (violence...|        43|    78525|https://cdn.myani...|           0.0|         0.0|\n",
            "|       5|Cowboy Bebop: Ten...|Cowboy Bebop: The...| 8.38|      Action, Sci-Fi|Movie|     1.0|Finished Airing|         Bones|Original|  1 hr 55 min|R - 17+ (violence...|       602|     1448|https://cdn.myani...|           0.0|         1.0|\n",
            "|       7|  Witch Hunter Robin|  Witch Hunter Robin| 7.25|Action, Drama, My...|   TV|    26.0|Finished Airing|       Sunrise|Original|25 min per ep|PG-13 - Teens 13 ...|      1795|      613|https://cdn.myani...|           0.0|         0.0|\n",
            "|       8|      Bouken Ou Beet|Beet the Vandel B...| 6.94|Adventure, Fantas...|   TV|    52.0|Finished Airing|Toei Animation|   Manga|23 min per ep|       PG - Children|      5126|       14|https://cdn.myani...|           1.0|         0.0|\n",
            "|      15|        Eyeshield 21|             UNKNOWN| 7.92|              Sports|   TV|   145.0|Finished Airing|        Gallop|   Manga|23 min per ep|PG-13 - Teens 13 ...|      1252|     1997|https://cdn.myani...|           1.0|         0.0|\n",
            "+--------+--------------------+--------------------+-----+--------------------+-----+--------+---------------+--------------+--------+-------------+--------------------+----------+---------+--------------------+--------------+------------+\n",
            "only showing top 5 rows\n",
            "\n",
            "+--------+--------------------+----------------+-----+--------------------+----+--------+---------------+--------------+------+-------------+--------------------+----------+---------+--------------------+--------------+------------+\n",
            "|anime_id|                Name|    English name|Score|              Genres|Type|Episodes|         Status|       Studios|Source|     Duration|              Rating|Popularity|Favorites|           Image URL|source_encoded|type_encoded|\n",
            "+--------+--------------------+----------------+-----+--------------------+----+--------+---------------+--------------+------+-------------+--------------------+----------+---------+--------------------+--------------+------------+\n",
            "|       6|              Trigun|          Trigun| 8.22|Action, Adventure...|  TV|    26.0|Finished Airing|      Madhouse| Manga|24 min per ep|PG-13 - Teens 13 ...|       246|    15035|https://cdn.myani...|           1.0|         0.0|\n",
            "|      16|Hachimitsu to Clover|Honey and Clover|  8.0|Comedy, Drama, Ro...|  TV|    24.0|Finished Airing|     J.C.Staff| Manga|23 min per ep|PG-13 - Teens 13 ...|       862|     4136|https://cdn.myani...|           1.0|         0.0|\n",
            "|      18|Initial D Fourth ...|         UNKNOWN| 8.16|       Action, Drama|  TV|    24.0|Finished Airing|      A.C.G.T.| Manga|27 min per ep|PG-13 - Teens 13 ...|      1273|     1237|https://cdn.myani...|           1.0|         0.0|\n",
            "|      23|    Ring ni Kakero 1|         UNKNOWN| 6.39|      Action, Sports|  TV|    12.0|Finished Airing|Toei Animation| Manga|25 min per ep|       PG - Children|      8288|        6|https://cdn.myani...|           1.0|         0.0|\n",
            "|      29|              Zipang|         UNKNOWN| 7.48|Action, Drama, Sc...|  TV|    26.0|Finished Airing|   Studio Deen| Manga|24 min per ep|PG-13 - Teens 13 ...|      4430|      180|https://cdn.myani...|           1.0|         0.0|\n",
            "+--------+--------------------+----------------+-----+--------------------+----+--------+---------------+--------------+------+-------------+--------------------+----------+---------+--------------------+--------------+------------+\n",
            "only showing top 5 rows\n",
            "\n"
          ]
        }
      ]
    },
    {
      "cell_type": "code",
      "metadata": {
        "colab": {
          "base_uri": "https://localhost:8080/"
        },
        "id": "59140c1d",
        "outputId": "d1a2154b-8863-4ffa-96e5-fc3a51e05902"
      },
      "source": [
        "from pyspark.ml.feature import StringIndexer\n",
        "\n",
        "allowed_statuses = [\n",
        "    \"Currently Airing\",\n",
        "    \"Finished Airing\",\n",
        "    \"Not yet aired\"\n",
        "]\n",
        "\n",
        "df_train = df_train.filter(df_train[\"Status\"].isin(allowed_statuses))\n",
        "df_test = df_test.filter(df_test[\"Status\"].isin(allowed_statuses))\n",
        "\n",
        "indexer_status = StringIndexer(inputCol=\"Status\", outputCol=\"status_encoded\")\n",
        "indexer_status_model = indexer_status.fit(df_train)\n",
        "\n",
        "df_train = indexer_status_model.transform(df_train)\n",
        "df_test = indexer_status_model.transform(df_test)\n",
        "\n",
        "print(\"Number of rows in df_train after filtering by Status:\", df_train.count())\n",
        "print(\"Number of rows in df_test after filtering by Status:\", df_test.count())\n",
        "\n",
        "df_train.show(5)\n",
        "df_test.show(5)"
      ],
      "execution_count": null,
      "outputs": [
        {
          "output_type": "stream",
          "name": "stdout",
          "text": [
            "Number of rows in df_train after filtering by Status: 19886\n",
            "Number of rows in df_test after filtering by Status: 4945\n",
            "+--------+--------------------+--------------------+-----+--------------------+-----+--------+---------------+--------------+--------+-------------+--------------------+----------+---------+--------------------+--------------+------------+--------------+\n",
            "|anime_id|                Name|        English name|Score|              Genres| Type|Episodes|         Status|       Studios|  Source|     Duration|              Rating|Popularity|Favorites|           Image URL|source_encoded|type_encoded|status_encoded|\n",
            "+--------+--------------------+--------------------+-----+--------------------+-----+--------+---------------+--------------+--------+-------------+--------------------+----------+---------+--------------------+--------------+------------+--------------+\n",
            "|       1|        Cowboy Bebop|        Cowboy Bebop| 8.75|Action, Award Win...|   TV|    26.0|Finished Airing|       Sunrise|Original|24 min per ep|R - 17+ (violence...|        43|    78525|https://cdn.myani...|           0.0|         0.0|           0.0|\n",
            "|       5|Cowboy Bebop: Ten...|Cowboy Bebop: The...| 8.38|      Action, Sci-Fi|Movie|     1.0|Finished Airing|         Bones|Original|  1 hr 55 min|R - 17+ (violence...|       602|     1448|https://cdn.myani...|           0.0|         1.0|           0.0|\n",
            "|       7|  Witch Hunter Robin|  Witch Hunter Robin| 7.25|Action, Drama, My...|   TV|    26.0|Finished Airing|       Sunrise|Original|25 min per ep|PG-13 - Teens 13 ...|      1795|      613|https://cdn.myani...|           0.0|         0.0|           0.0|\n",
            "|       8|      Bouken Ou Beet|Beet the Vandel B...| 6.94|Adventure, Fantas...|   TV|    52.0|Finished Airing|Toei Animation|   Manga|23 min per ep|       PG - Children|      5126|       14|https://cdn.myani...|           1.0|         0.0|           0.0|\n",
            "|      15|        Eyeshield 21|             UNKNOWN| 7.92|              Sports|   TV|   145.0|Finished Airing|        Gallop|   Manga|23 min per ep|PG-13 - Teens 13 ...|      1252|     1997|https://cdn.myani...|           1.0|         0.0|           0.0|\n",
            "+--------+--------------------+--------------------+-----+--------------------+-----+--------+---------------+--------------+--------+-------------+--------------------+----------+---------+--------------------+--------------+------------+--------------+\n",
            "only showing top 5 rows\n",
            "\n",
            "+--------+--------------------+----------------+-----+--------------------+----+--------+---------------+--------------+------+-------------+--------------------+----------+---------+--------------------+--------------+------------+--------------+\n",
            "|anime_id|                Name|    English name|Score|              Genres|Type|Episodes|         Status|       Studios|Source|     Duration|              Rating|Popularity|Favorites|           Image URL|source_encoded|type_encoded|status_encoded|\n",
            "+--------+--------------------+----------------+-----+--------------------+----+--------+---------------+--------------+------+-------------+--------------------+----------+---------+--------------------+--------------+------------+--------------+\n",
            "|       6|              Trigun|          Trigun| 8.22|Action, Adventure...|  TV|    26.0|Finished Airing|      Madhouse| Manga|24 min per ep|PG-13 - Teens 13 ...|       246|    15035|https://cdn.myani...|           1.0|         0.0|           0.0|\n",
            "|      16|Hachimitsu to Clover|Honey and Clover|  8.0|Comedy, Drama, Ro...|  TV|    24.0|Finished Airing|     J.C.Staff| Manga|23 min per ep|PG-13 - Teens 13 ...|       862|     4136|https://cdn.myani...|           1.0|         0.0|           0.0|\n",
            "|      18|Initial D Fourth ...|         UNKNOWN| 8.16|       Action, Drama|  TV|    24.0|Finished Airing|      A.C.G.T.| Manga|27 min per ep|PG-13 - Teens 13 ...|      1273|     1237|https://cdn.myani...|           1.0|         0.0|           0.0|\n",
            "|      23|    Ring ni Kakero 1|         UNKNOWN| 6.39|      Action, Sports|  TV|    12.0|Finished Airing|Toei Animation| Manga|25 min per ep|       PG - Children|      8288|        6|https://cdn.myani...|           1.0|         0.0|           0.0|\n",
            "|      29|              Zipang|         UNKNOWN| 7.48|Action, Drama, Sc...|  TV|    26.0|Finished Airing|   Studio Deen| Manga|24 min per ep|PG-13 - Teens 13 ...|      4430|      180|https://cdn.myani...|           1.0|         0.0|           0.0|\n",
            "+--------+--------------------+----------------+-----+--------------------+----+--------+---------------+--------------+------+-------------+--------------------+----------+---------+--------------------+--------------+------------+--------------+\n",
            "only showing top 5 rows\n",
            "\n"
          ]
        }
      ]
    },
    {
      "cell_type": "code",
      "metadata": {
        "colab": {
          "base_uri": "https://localhost:8080/"
        },
        "id": "3cec28e8",
        "outputId": "793d72a9-5a7a-4887-822f-fb76334dccf5"
      },
      "source": [
        "from pyspark.ml.feature import StringIndexer\n",
        "\n",
        "allowed_ratings = [\n",
        "    \"G - All Ages\",\n",
        "    \"PG - Children\",\n",
        "    \"PG-13 - Teens 13 or older\",\n",
        "    \"R - 17+ (violence & profanity)\",\n",
        "    \"R+ - Mild Nudity\",\n",
        "    \"UNKNOWN\"\n",
        "]\n",
        "\n",
        "df_train = df_train.filter(df_train[\"Rating\"].isin(allowed_ratings))\n",
        "df_test = df_test.filter(df_test[\"Rating\"].isin(allowed_ratings))\n",
        "\n",
        "indexer_rating = StringIndexer(inputCol=\"Rating\", outputCol=\"rating_encoded\")\n",
        "indexer_rating_model = indexer_rating.fit(df_train)\n",
        "\n",
        "df_train = indexer_rating_model.transform(df_train)\n",
        "df_test = indexer_rating_model.transform(df_test)\n",
        "\n",
        "print(\"Number of rows in df_train after filtering by Rating:\", df_train.count())\n",
        "print(\"Number of rows in df_test after filtering by Rating:\", df_test.count())\n",
        "\n",
        "df_train.show(5)\n",
        "df_test.show(5)"
      ],
      "execution_count": null,
      "outputs": [
        {
          "output_type": "stream",
          "name": "stdout",
          "text": [
            "Number of rows in df_train after filtering by Rating: 18702\n",
            "Number of rows in df_test after filtering by Rating: 4654\n",
            "+--------+--------------------+--------------------+-----+--------------------+-----+--------+---------------+--------------+--------+-------------+--------------------+----------+---------+--------------------+--------------+------------+--------------+--------------+\n",
            "|anime_id|                Name|        English name|Score|              Genres| Type|Episodes|         Status|       Studios|  Source|     Duration|              Rating|Popularity|Favorites|           Image URL|source_encoded|type_encoded|status_encoded|rating_encoded|\n",
            "+--------+--------------------+--------------------+-----+--------------------+-----+--------+---------------+--------------+--------+-------------+--------------------+----------+---------+--------------------+--------------+------------+--------------+--------------+\n",
            "|       1|        Cowboy Bebop|        Cowboy Bebop| 8.75|Action, Award Win...|   TV|    26.0|Finished Airing|       Sunrise|Original|24 min per ep|R - 17+ (violence...|        43|    78525|https://cdn.myani...|           0.0|         0.0|           0.0|           3.0|\n",
            "|       5|Cowboy Bebop: Ten...|Cowboy Bebop: The...| 8.38|      Action, Sci-Fi|Movie|     1.0|Finished Airing|         Bones|Original|  1 hr 55 min|R - 17+ (violence...|       602|     1448|https://cdn.myani...|           0.0|         1.0|           0.0|           3.0|\n",
            "|       7|  Witch Hunter Robin|  Witch Hunter Robin| 7.25|Action, Drama, My...|   TV|    26.0|Finished Airing|       Sunrise|Original|25 min per ep|PG-13 - Teens 13 ...|      1795|      613|https://cdn.myani...|           0.0|         0.0|           0.0|           0.0|\n",
            "|       8|      Bouken Ou Beet|Beet the Vandel B...| 6.94|Adventure, Fantas...|   TV|    52.0|Finished Airing|Toei Animation|   Manga|23 min per ep|       PG - Children|      5126|       14|https://cdn.myani...|           1.0|         0.0|           0.0|           2.0|\n",
            "|      15|        Eyeshield 21|             UNKNOWN| 7.92|              Sports|   TV|   145.0|Finished Airing|        Gallop|   Manga|23 min per ep|PG-13 - Teens 13 ...|      1252|     1997|https://cdn.myani...|           1.0|         0.0|           0.0|           0.0|\n",
            "+--------+--------------------+--------------------+-----+--------------------+-----+--------+---------------+--------------+--------+-------------+--------------------+----------+---------+--------------------+--------------+------------+--------------+--------------+\n",
            "only showing top 5 rows\n",
            "\n",
            "+--------+--------------------+----------------+-----+--------------------+----+--------+---------------+--------------+------+-------------+--------------------+----------+---------+--------------------+--------------+------------+--------------+--------------+\n",
            "|anime_id|                Name|    English name|Score|              Genres|Type|Episodes|         Status|       Studios|Source|     Duration|              Rating|Popularity|Favorites|           Image URL|source_encoded|type_encoded|status_encoded|rating_encoded|\n",
            "+--------+--------------------+----------------+-----+--------------------+----+--------+---------------+--------------+------+-------------+--------------------+----------+---------+--------------------+--------------+------------+--------------+--------------+\n",
            "|       6|              Trigun|          Trigun| 8.22|Action, Adventure...|  TV|    26.0|Finished Airing|      Madhouse| Manga|24 min per ep|PG-13 - Teens 13 ...|       246|    15035|https://cdn.myani...|           1.0|         0.0|           0.0|           0.0|\n",
            "|      16|Hachimitsu to Clover|Honey and Clover|  8.0|Comedy, Drama, Ro...|  TV|    24.0|Finished Airing|     J.C.Staff| Manga|23 min per ep|PG-13 - Teens 13 ...|       862|     4136|https://cdn.myani...|           1.0|         0.0|           0.0|           0.0|\n",
            "|      18|Initial D Fourth ...|         UNKNOWN| 8.16|       Action, Drama|  TV|    24.0|Finished Airing|      A.C.G.T.| Manga|27 min per ep|PG-13 - Teens 13 ...|      1273|     1237|https://cdn.myani...|           1.0|         0.0|           0.0|           0.0|\n",
            "|      23|    Ring ni Kakero 1|         UNKNOWN| 6.39|      Action, Sports|  TV|    12.0|Finished Airing|Toei Animation| Manga|25 min per ep|       PG - Children|      8288|        6|https://cdn.myani...|           1.0|         0.0|           0.0|           2.0|\n",
            "|      29|              Zipang|         UNKNOWN| 7.48|Action, Drama, Sc...|  TV|    26.0|Finished Airing|   Studio Deen| Manga|24 min per ep|PG-13 - Teens 13 ...|      4430|      180|https://cdn.myani...|           1.0|         0.0|           0.0|           0.0|\n",
            "+--------+--------------------+----------------+-----+--------------------+----+--------+---------------+--------------+------+-------------+--------------------+----------+---------+--------------------+--------------+------------+--------------+--------------+\n",
            "only showing top 5 rows\n",
            "\n"
          ]
        }
      ]
    },
    {
      "cell_type": "code",
      "metadata": {
        "colab": {
          "base_uri": "https://localhost:8080/"
        },
        "id": "0a85e1df",
        "outputId": "8a09e7de-b3d4-4e24-8c9c-7e0e920c7135"
      },
      "source": [
        "from pyspark.ml.feature import CountVectorizer\n",
        "\n",
        "df_train = df_train.withColumn(\"genres_array\", split(col(\"Genres\"), \", \"))\n",
        "df_test = df_test.withColumn(\"genres_array\", split(col(\"Genres\"), \", \"))\n",
        "\n",
        "cv = CountVectorizer(inputCol=\"genres_array\", outputCol=\"genres_vector\")\n",
        "cv_model = cv.fit(df_train)\n",
        "\n",
        "df_train = cv_model.transform(df_train)\n",
        "df_test = cv_model.transform(df_test)\n",
        "\n",
        "print(\"Schema after CountVectorizer:\")\n",
        "df_train.printSchema()\n",
        "\n",
        "df_train.show(5)\n",
        "df_test.show(5)"
      ],
      "execution_count": null,
      "outputs": [
        {
          "output_type": "stream",
          "name": "stdout",
          "text": [
            "Schema after CountVectorizer:\n",
            "root\n",
            " |-- anime_id: integer (nullable = true)\n",
            " |-- Name: string (nullable = true)\n",
            " |-- English name: string (nullable = true)\n",
            " |-- Score: string (nullable = true)\n",
            " |-- Genres: string (nullable = true)\n",
            " |-- Type: string (nullable = true)\n",
            " |-- Episodes: string (nullable = true)\n",
            " |-- Status: string (nullable = true)\n",
            " |-- Studios: string (nullable = true)\n",
            " |-- Source: string (nullable = true)\n",
            " |-- Duration: string (nullable = true)\n",
            " |-- Rating: string (nullable = true)\n",
            " |-- Popularity: integer (nullable = true)\n",
            " |-- Favorites: integer (nullable = true)\n",
            " |-- Image URL: string (nullable = true)\n",
            " |-- source_encoded: double (nullable = false)\n",
            " |-- type_encoded: double (nullable = false)\n",
            " |-- status_encoded: double (nullable = false)\n",
            " |-- rating_encoded: double (nullable = false)\n",
            " |-- genres_array: array (nullable = true)\n",
            " |    |-- element: string (containsNull = false)\n",
            " |-- genres_vector: vector (nullable = true)\n",
            "\n",
            "+--------+--------------------+--------------------+-----+--------------------+-----+--------+---------------+--------------+--------+-------------+--------------------+----------+---------+--------------------+--------------+------------+--------------+--------------+--------------------+--------------------+\n",
            "|anime_id|                Name|        English name|Score|              Genres| Type|Episodes|         Status|       Studios|  Source|     Duration|              Rating|Popularity|Favorites|           Image URL|source_encoded|type_encoded|status_encoded|rating_encoded|        genres_array|       genres_vector|\n",
            "+--------+--------------------+--------------------+-----+--------------------+-----+--------+---------------+--------------+--------+-------------+--------------------+----------+---------+--------------------+--------------+------------+--------------+--------------+--------------------+--------------------+\n",
            "|       1|        Cowboy Bebop|        Cowboy Bebop| 8.75|Action, Award Win...|   TV|    26.0|Finished Airing|       Sunrise|Original|24 min per ep|R - 17+ (violence...|        43|    78525|https://cdn.myani...|           0.0|         0.0|           0.0|           3.0|[Action, Award Wi...|(22,[3,5,15],[1.0...|\n",
            "|       5|Cowboy Bebop: Ten...|Cowboy Bebop: The...| 8.38|      Action, Sci-Fi|Movie|     1.0|Finished Airing|         Bones|Original|  1 hr 55 min|R - 17+ (violence...|       602|     1448|https://cdn.myani...|           0.0|         1.0|           0.0|           3.0|    [Action, Sci-Fi]|(22,[3,5],[1.0,1.0])|\n",
            "|       7|  Witch Hunter Robin|  Witch Hunter Robin| 7.25|Action, Drama, My...|   TV|    26.0|Finished Airing|       Sunrise|Original|25 min per ep|PG-13 - Teens 13 ...|      1795|      613|https://cdn.myani...|           0.0|         0.0|           0.0|           0.0|[Action, Drama, M...|(22,[3,6,9,10],[1...|\n",
            "|       8|      Bouken Ou Beet|Beet the Vandel B...| 6.94|Adventure, Fantas...|   TV|    52.0|Finished Airing|Toei Animation|   Manga|23 min per ep|       PG - Children|      5126|       14|https://cdn.myani...|           1.0|         0.0|           0.0|           2.0|[Adventure, Fanta...|(22,[1,4,9],[1.0,...|\n",
            "|      15|        Eyeshield 21|             UNKNOWN| 7.92|              Sports|   TV|   145.0|Finished Airing|        Gallop|   Manga|23 min per ep|PG-13 - Teens 13 ...|      1252|     1997|https://cdn.myani...|           1.0|         0.0|           0.0|           0.0|            [Sports]|     (22,[13],[1.0])|\n",
            "+--------+--------------------+--------------------+-----+--------------------+-----+--------+---------------+--------------+--------+-------------+--------------------+----------+---------+--------------------+--------------+------------+--------------+--------------+--------------------+--------------------+\n",
            "only showing top 5 rows\n",
            "\n",
            "+--------+--------------------+----------------+-----+--------------------+----+--------+---------------+--------------+------+-------------+--------------------+----------+---------+--------------------+--------------+------------+--------------+--------------+--------------------+--------------------+\n",
            "|anime_id|                Name|    English name|Score|              Genres|Type|Episodes|         Status|       Studios|Source|     Duration|              Rating|Popularity|Favorites|           Image URL|source_encoded|type_encoded|status_encoded|rating_encoded|        genres_array|       genres_vector|\n",
            "+--------+--------------------+----------------+-----+--------------------+----+--------+---------------+--------------+------+-------------+--------------------+----------+---------+--------------------+--------------+------------+--------------+--------------+--------------------+--------------------+\n",
            "|       6|              Trigun|          Trigun| 8.22|Action, Adventure...|  TV|    26.0|Finished Airing|      Madhouse| Manga|24 min per ep|PG-13 - Teens 13 ...|       246|    15035|https://cdn.myani...|           1.0|         0.0|           0.0|           0.0|[Action, Adventur...|(22,[3,4,5],[1.0,...|\n",
            "|      16|Hachimitsu to Clover|Honey and Clover|  8.0|Comedy, Drama, Ro...|  TV|    24.0|Finished Airing|     J.C.Staff| Manga|23 min per ep|PG-13 - Teens 13 ...|       862|     4136|https://cdn.myani...|           1.0|         0.0|           0.0|           0.0|[Comedy, Drama, R...|(22,[0,6,7],[1.0,...|\n",
            "|      18|Initial D Fourth ...|         UNKNOWN| 8.16|       Action, Drama|  TV|    24.0|Finished Airing|      A.C.G.T.| Manga|27 min per ep|PG-13 - Teens 13 ...|      1273|     1237|https://cdn.myani...|           1.0|         0.0|           0.0|           0.0|     [Action, Drama]|(22,[3,6],[1.0,1.0])|\n",
            "|      23|    Ring ni Kakero 1|         UNKNOWN| 6.39|      Action, Sports|  TV|    12.0|Finished Airing|Toei Animation| Manga|25 min per ep|       PG - Children|      8288|        6|https://cdn.myani...|           1.0|         0.0|           0.0|           2.0|    [Action, Sports]|(22,[3,13],[1.0,1...|\n",
            "|      29|              Zipang|         UNKNOWN| 7.48|Action, Drama, Sc...|  TV|    26.0|Finished Airing|   Studio Deen| Manga|24 min per ep|PG-13 - Teens 13 ...|      4430|      180|https://cdn.myani...|           1.0|         0.0|           0.0|           0.0|[Action, Drama, S...|(22,[3,5,6],[1.0,...|\n",
            "+--------+--------------------+----------------+-----+--------------------+----+--------+---------------+--------------+------+-------------+--------------------+----------+---------+--------------------+--------------+------------+--------------+--------------+--------------------+--------------------+\n",
            "only showing top 5 rows\n",
            "\n"
          ]
        }
      ]
    },
    {
      "cell_type": "code",
      "source": [
        "print(\"Number of rows in df_train after filtering by Rating:\", df_train.count())\n",
        "print(\"Number of rows in df_test after filtering by Rating:\", df_test.count())"
      ],
      "metadata": {
        "colab": {
          "base_uri": "https://localhost:8080/"
        },
        "id": "4v8sI56h3aPF",
        "outputId": "6e8610af-cab9-49dd-ee7b-c0b9a51db09a"
      },
      "execution_count": null,
      "outputs": [
        {
          "output_type": "stream",
          "name": "stdout",
          "text": [
            "Number of rows in df_train after filtering by Rating: 18702\n",
            "Number of rows in df_test after filtering by Rating: 4654\n"
          ]
        }
      ]
    },
    {
      "cell_type": "code",
      "source": [
        "df_train.show()\n",
        "df_test.show()"
      ],
      "metadata": {
        "colab": {
          "base_uri": "https://localhost:8080/"
        },
        "id": "o41Y4a2V3bsx",
        "outputId": "57e34134-704c-471d-8430-f1c779686826"
      },
      "execution_count": null,
      "outputs": [
        {
          "output_type": "stream",
          "name": "stdout",
          "text": [
            "+--------+--------------------+--------------------+-----+--------------------+-----+--------+----------------+--------------------+-----------+-------------+--------------------+----------+---------+--------------------+--------------+------------+--------------+--------------+--------------------+--------------------+\n",
            "|anime_id|                Name|        English name|Score|              Genres| Type|Episodes|          Status|             Studios|     Source|     Duration|              Rating|Popularity|Favorites|           Image URL|source_encoded|type_encoded|status_encoded|rating_encoded|        genres_array|       genres_vector|\n",
            "+--------+--------------------+--------------------+-----+--------------------+-----+--------+----------------+--------------------+-----------+-------------+--------------------+----------+---------+--------------------+--------------+------------+--------------+--------------+--------------------+--------------------+\n",
            "|       1|        Cowboy Bebop|        Cowboy Bebop| 8.75|Action, Award Win...|   TV|    26.0| Finished Airing|             Sunrise|   Original|24 min per ep|R - 17+ (violence...|        43|    78525|https://cdn.myani...|           0.0|         0.0|           0.0|           3.0|[Action, Award Wi...|(22,[3,5,15],[1.0...|\n",
            "|       5|Cowboy Bebop: Ten...|Cowboy Bebop: The...| 8.38|      Action, Sci-Fi|Movie|     1.0| Finished Airing|               Bones|   Original|  1 hr 55 min|R - 17+ (violence...|       602|     1448|https://cdn.myani...|           0.0|         1.0|           0.0|           3.0|    [Action, Sci-Fi]|(22,[3,5],[1.0,1.0])|\n",
            "|       7|  Witch Hunter Robin|  Witch Hunter Robin| 7.25|Action, Drama, My...|   TV|    26.0| Finished Airing|             Sunrise|   Original|25 min per ep|PG-13 - Teens 13 ...|      1795|      613|https://cdn.myani...|           0.0|         0.0|           0.0|           0.0|[Action, Drama, M...|(22,[3,6,9,10],[1...|\n",
            "|       8|      Bouken Ou Beet|Beet the Vandel B...| 6.94|Adventure, Fantas...|   TV|    52.0| Finished Airing|      Toei Animation|      Manga|23 min per ep|       PG - Children|      5126|       14|https://cdn.myani...|           1.0|         0.0|           0.0|           2.0|[Adventure, Fanta...|(22,[1,4,9],[1.0,...|\n",
            "|      15|        Eyeshield 21|             UNKNOWN| 7.92|              Sports|   TV|   145.0| Finished Airing|              Gallop|      Manga|23 min per ep|PG-13 - Teens 13 ...|      1252|     1997|https://cdn.myani...|           1.0|         0.0|           0.0|           0.0|            [Sports]|     (22,[13],[1.0])|\n",
            "|      17|Hungry Heart: Wil...|             UNKNOWN| 7.55|Comedy, Slice of ...|   TV|    52.0| Finished Airing|    Nippon Animation|      Manga|23 min per ep|PG-13 - Teens 13 ...|      4212|      237|https://cdn.myani...|           1.0|         0.0|           0.0|           0.0|[Comedy, Slice of...|(22,[0,8,13],[1.0...|\n",
            "|      19|             Monster|             Monster| 8.87|Drama, Mystery, S...|   TV|    74.0| Finished Airing|            Madhouse|      Manga|24 min per ep|    R+ - Mild Nudity|       142|    47235|https://cdn.myani...|           1.0|         0.0|           0.0|           4.0|[Drama, Mystery, ...|(22,[6,10,16],[1....|\n",
            "|      20|              Naruto|              Naruto| 7.99|Action, Adventure...|   TV|   220.0| Finished Airing|             Pierrot|      Manga|23 min per ep|PG-13 - Teens 13 ...|         8|    76343|https://cdn.myani...|           1.0|         0.0|           0.0|           0.0|[Action, Adventur...|(22,[1,3,4],[1.0,...|\n",
            "|      21|           One Piece|           One Piece| 8.69|Action, Adventure...|   TV| UNKNOWN|Currently Airing|      Toei Animation|      Manga|       24 min|PG-13 - Teens 13 ...|        20|   198986|https://cdn.myani...|           1.0|         0.0|           2.0|           0.0|[Action, Adventur...|(22,[1,3,4],[1.0,...|\n",
            "|      22| Tennis no Ouji-sama|The Prince of Tennis| 7.86|              Sports|   TV|   178.0| Finished Airing|          Trans Arts|      Manga|22 min per ep|PG-13 - Teens 13 ...|      1246|     3004|https://cdn.myani...|           1.0|         0.0|           0.0|           0.0|            [Sports]|     (22,[13],[1.0])|\n",
            "|      24|       School Rumble|       School Rumble| 7.89|     Comedy, Romance|   TV|    26.0| Finished Airing|        Studio Comet|      Manga|23 min per ep|PG-13 - Teens 13 ...|       687|     5139|https://cdn.myani...|           1.0|         0.0|           0.0|           0.0|   [Comedy, Romance]|(22,[0,7],[1.0,1.0])|\n",
            "|      25|           Sunabouzu|         Desert Punk| 7.38|Action, Adventure...|   TV|    24.0| Finished Airing|               Gonzo|      Manga|24 min per ep|R - 17+ (violence...|      1546|      822|https://cdn.myani...|           1.0|         0.0|           0.0|           3.0|[Action, Adventur...|(22,[0,3,4,5,12],...|\n",
            "|      26|          Texhnolyze|          Texhnolyze| 7.76|Action, Drama, Sc...|   TV|    22.0| Finished Airing|            Madhouse|   Original|23 min per ep|    R+ - Mild Nudity|       935|     4786|https://cdn.myani...|           0.0|         0.0|           0.0|           4.0|[Action, Drama, S...|(22,[3,5,6],[1.0,...|\n",
            "|      27|       Trinity Blood|       Trinity Blood| 7.29|Action, Supernatural|   TV|    24.0| Finished Airing|               Gonzo|Light novel|24 min per ep|R - 17+ (violence...|      1233|     1298|https://cdn.myani...|           6.0|         0.0|           0.0|           3.0|[Action, Supernat...|(22,[3,9],[1.0,1.0])|\n",
            "|      28|    Yakitate!! Japan|    Yakitate!! Japan| 7.91|     Comedy, Gourmet|   TV|    69.0| Finished Airing|             Sunrise|      Manga|24 min per ep|PG-13 - Teens 13 ...|      1992|      897|https://cdn.myani...|           1.0|         0.0|           0.0|           0.0|   [Comedy, Gourmet]|(22,[0,18],[1.0,1...|\n",
            "|      30|Neon Genesis Evan...|Neon Genesis Evan...| 8.35|Action, Avant Gar...|   TV|    26.0| Finished Airing|Gainax, Tatsunoko...|   Original|24 min per ep|PG-13 - Teens 13 ...|        45|   100638|https://cdn.myani...|           0.0|         0.0|           0.0|           0.0|[Action, Avant Ga...|(22,[3,5,6,11,15,...|\n",
            "|      31|Neon Genesis Evan...|Neon Genesis Evan...| 7.46|       Drama, Sci-Fi|Movie|     1.0| Finished Airing|Gainax, Productio...|   Original|  1 hr 44 min|R - 17+ (violence...|       889|      687|https://cdn.myani...|           0.0|         1.0|           0.0|           3.0|     [Drama, Sci-Fi]|(22,[5,6],[1.0,1.0])|\n",
            "|      32|Neon Genesis Evan...|Neon Genesis Evan...| 8.55|Avant Garde, Dram...|Movie|     1.0| Finished Airing|Gainax, Productio...|   Original|  1 hr 26 min|    R+ - Mild Nudity|       177|    27272|https://cdn.myani...|           0.0|         1.0|           0.0|           4.0|[Avant Garde, Dra...|(22,[5,6,11],[1.0...|\n",
            "|      43|    Koukaku Kidoutai|  Ghost in the Shell| 8.27|Action, Award Win...|Movie|     1.0| Finished Airing|      Production I.G|      Manga|  1 hr 22 min|    R+ - Mild Nudity|       329|    12339|https://cdn.myani...|           1.0|         1.0|           0.0|           4.0|[Action, Award Wi...|(22,[3,5,10,15,16...|\n",
            "|      44|Rurouni Kenshin: ...|Samurai X: Trust ...| 8.71|Action, Drama, Ro...|  OVA|     4.0| Finished Airing|         Studio Deen|      Manga|29 min per ep|R - 17+ (violence...|       834|     6137|https://cdn.myani...|           1.0|         2.0|           0.0|           3.0|[Action, Drama, R...|(22,[3,6,7],[1.0,...|\n",
            "+--------+--------------------+--------------------+-----+--------------------+-----+--------+----------------+--------------------+-----------+-------------+--------------------+----------+---------+--------------------+--------------+------------+--------------+--------------+--------------------+--------------------+\n",
            "only showing top 20 rows\n",
            "\n",
            "+--------+--------------------+--------------------+-----+--------------------+-----+--------+---------------+----------------+------------+-------------+--------------------+----------+---------+--------------------+--------------+------------+--------------+--------------+--------------------+--------------------+\n",
            "|anime_id|                Name|        English name|Score|              Genres| Type|Episodes|         Status|         Studios|      Source|     Duration|              Rating|Popularity|Favorites|           Image URL|source_encoded|type_encoded|status_encoded|rating_encoded|        genres_array|       genres_vector|\n",
            "+--------+--------------------+--------------------+-----+--------------------+-----+--------+---------------+----------------+------------+-------------+--------------------+----------+---------+--------------------+--------------+------------+--------------+--------------+--------------------+--------------------+\n",
            "|       6|              Trigun|              Trigun| 8.22|Action, Adventure...|   TV|    26.0|Finished Airing|        Madhouse|       Manga|24 min per ep|PG-13 - Teens 13 ...|       246|    15035|https://cdn.myani...|           1.0|         0.0|           0.0|           0.0|[Action, Adventur...|(22,[3,4,5],[1.0,...|\n",
            "|      16|Hachimitsu to Clover|    Honey and Clover|  8.0|Comedy, Drama, Ro...|   TV|    24.0|Finished Airing|       J.C.Staff|       Manga|23 min per ep|PG-13 - Teens 13 ...|       862|     4136|https://cdn.myani...|           1.0|         0.0|           0.0|           0.0|[Comedy, Drama, R...|(22,[0,6,7],[1.0,...|\n",
            "|      18|Initial D Fourth ...|             UNKNOWN| 8.16|       Action, Drama|   TV|    24.0|Finished Airing|        A.C.G.T.|       Manga|27 min per ep|PG-13 - Teens 13 ...|      1273|     1237|https://cdn.myani...|           1.0|         0.0|           0.0|           0.0|     [Action, Drama]|(22,[3,6],[1.0,1.0])|\n",
            "|      23|    Ring ni Kakero 1|             UNKNOWN| 6.39|      Action, Sports|   TV|    12.0|Finished Airing|  Toei Animation|       Manga|25 min per ep|       PG - Children|      8288|        6|https://cdn.myani...|           1.0|         0.0|           0.0|           2.0|    [Action, Sports]|(22,[3,13],[1.0,1...|\n",
            "|      29|              Zipang|             UNKNOWN| 7.48|Action, Drama, Sc...|   TV|    26.0|Finished Airing|     Studio Deen|       Manga|24 min per ep|PG-13 - Teens 13 ...|      4430|      180|https://cdn.myani...|           1.0|         0.0|           0.0|           0.0|[Action, Drama, S...|(22,[3,5,6],[1.0,...|\n",
            "|      33|Kenpuu Denki Berserk|             Berserk| 8.56|Action, Adventure...|   TV|    25.0|Finished Airing|             OLM|       Manga|25 min per ep|    R+ - Mild Nudity|       325|    25404|https://cdn.myani...|           1.0|         0.0|           0.0|           4.0|[Action, Adventur...|(22,[1,3,4,6,14],...|\n",
            "|      48|         .hack//Sign|         .hack//Sign| 6.95|Adventure, Fantas...|   TV|    26.0|Finished Airing|       Bee Train|    Original|24 min per ep|PG-13 - Teens 13 ...|      1243|     1343|https://cdn.myani...|           0.0|         0.0|           0.0|           0.0|[Adventure, Fanta...|(22,[1,4,10],[1.0...|\n",
            "|      54|   Appleseed (Movie)|             UNKNOWN| 7.06|Action, Drama, Sc...|Movie|     1.0|Finished Airing|Digital Frontier|       Manga|  1 hr 45 min|R - 17+ (violence...|      2370|      170|https://cdn.myani...|           1.0|         1.0|           0.0|           3.0|[Action, Drama, S...|(22,[3,5,6],[1.0,...|\n",
            "|      64|        Rozen Maiden|        Rozen Maiden| 7.41|Action, Comedy, D...|   TV|    12.0|Finished Airing|           Nomad|       Manga|24 min per ep|PG-13 - Teens 13 ...|      1120|     1936|https://cdn.myani...|           1.0|         0.0|           0.0|           0.0|[Action, Comedy, ...|(22,[0,3,6],[1.0,...|\n",
            "|      65|Rozen Maiden: Trä...|Rozen Maiden: Trä...| 7.62|Action, Comedy, D...|   TV|    12.0|Finished Airing|           Nomad|       Manga|24 min per ep|PG-13 - Teens 13 ...|      1898|      450|https://cdn.myani...|           1.0|         0.0|           0.0|           0.0|[Action, Comedy, ...|(22,[0,3,6],[1.0,...|\n",
            "|      66|Azumanga Daiou Th...|Azumanga Daioh: T...| 7.99|Comedy, Slice of ...|   TV|    26.0|Finished Airing|       J.C.Staff|4-koma manga|24 min per ep|PG-13 - Teens 13 ...|       668|     6327|https://cdn.myani...|          10.0|         0.0|           0.0|           0.0|[Comedy, Slice of...|(22,[0,8],[1.0,1.0])|\n",
            "|      68|      Black Cat (TV)|           Black Cat| 7.33|Action, Adventure...|   TV|    23.0|Finished Airing|           Gonzo|       Manga|24 min per ep|PG-13 - Teens 13 ...|       846|     1779|https://cdn.myani...|           1.0|         0.0|           0.0|           0.0|[Action, Adventur...|(22,[3,4,5],[1.0,...|\n",
            "|      71|   Full Metal Panic!|   Full Metal Panic!| 7.61|Action, Comedy, S...|   TV|    24.0|Finished Airing|           Gonzo| Light novel|24 min per ep|R - 17+ (violence...|       422|     4326|https://cdn.myani...|           6.0|         0.0|           0.0|           3.0|[Action, Comedy, ...|(22,[0,3,5],[1.0,...|\n",
            "|      75|Soukyuu no Fafner...|              Fafner| 7.26|Action, Drama, Sc...|   TV|    25.0|Finished Airing|           Xebec|    Original|24 min per ep|PG-13 - Teens 13 ...|      3000|      260|https://cdn.myani...|           0.0|         0.0|           0.0|           0.0|[Action, Drama, S...|(22,[3,5,6],[1.0,...|\n",
            "|      83|Kidou Senshi Gund...|Mobile Suit Gunda...| 6.76|Drama, Romance, S...|Movie|     1.0|Finished Airing|         Sunrise|    Original|       52 min|PG-13 - Teens 13 ...|      5384|        3|https://cdn.myani...|           0.0|         1.0|           0.0|           0.0|[Drama, Romance, ...|(22,[5,6,7],[1.0,...|\n",
            "|      90|Shin Kidou Senki ...|Mobile Suit Gunda...| 7.69|Action, Drama, Sc...|   TV|    49.0|Finished Airing|         Sunrise|    Original|24 min per ep|PG-13 - Teens 13 ...|      1391|     2334|https://cdn.myani...|           0.0|         0.0|           0.0|           0.0|[Action, Drama, S...|(22,[3,5,6],[1.0,...|\n",
            "|      98|            Mai-HiME|             My-Hime| 7.42|Action, Fantasy, ...|   TV|    26.0|Finished Airing|         Sunrise|    Original|23 min per ep|PG-13 - Teens 13 ...|      1781|     1146|https://cdn.myani...|           0.0|         0.0|           0.0|           0.0|[Action, Fantasy,...|(22,[1,3,19],[1.0...|\n",
            "|     121| Fullmetal Alchemist| Fullmetal Alchemist| 8.11|Action, Adventure...|   TV|    51.0|Finished Airing|           Bones|       Manga|24 min per ep|R - 17+ (violence...|        76|    25502|https://cdn.myani...|           1.0|         0.0|           0.0|           3.0|[Action, Adventur...|(22,[1,3,4,6,15],...|\n",
            "|     133|         Green Green|         Green Green| 6.15|Comedy, Romance, ...|   TV|    12.0|Finished Airing|   Studio Matrix|Visual novel|24 min per ep|    R+ - Mild Nudity|      1750|      221|https://cdn.myani...|           4.0|         0.0|           0.0|           4.0|[Comedy, Romance,...|(22,[0,7,12],[1.0...|\n",
            "|     137|Hunter x Hunter: ...|             UNKNOWN| 8.31|Action, Adventure...|  OVA|     8.0|Finished Airing|Nippon Animation|       Manga|24 min per ep|PG-13 - Teens 13 ...|      1673|      395|https://cdn.myani...|           1.0|         2.0|           0.0|           0.0|[Action, Adventur...|(22,[1,3,4],[1.0,...|\n",
            "+--------+--------------------+--------------------+-----+--------------------+-----+--------+---------------+----------------+------------+-------------+--------------------+----------+---------+--------------------+--------------+------------+--------------+--------------+--------------------+--------------------+\n",
            "only showing top 20 rows\n",
            "\n"
          ]
        }
      ]
    },
    {
      "cell_type": "code",
      "metadata": {
        "colab": {
          "base_uri": "https://localhost:8080/"
        },
        "id": "f720cd3a",
        "outputId": "61d36d83-b5b3-4f7e-8d2a-53892beea428"
      },
      "source": [
        "\n",
        "df_train = df_train.drop(\"Score\")\n",
        "df_test = df_test.drop(\"Score\")\n",
        "\n",
        "print(\"Columns in df_train after dropping Score:\")\n",
        "print(df_train.columns)\n",
        "\n",
        "print(\"\\nColumns in df_test after dropping Score:\")\n",
        "print(df_test.columns)"
      ],
      "execution_count": null,
      "outputs": [
        {
          "output_type": "stream",
          "name": "stdout",
          "text": [
            "Columns in df_train after dropping Score:\n",
            "['anime_id', 'Name', 'English name', 'Genres', 'Type', 'Episodes', 'Status', 'Studios', 'Source', 'Duration', 'Rating', 'Popularity', 'Favorites', 'Image URL', 'source_encoded', 'type_encoded', 'status_encoded', 'rating_encoded', 'genres_array', 'genres_vector']\n",
            "\n",
            "Columns in df_test after dropping Score:\n",
            "['anime_id', 'Name', 'English name', 'Genres', 'Type', 'Episodes', 'Status', 'Studios', 'Source', 'Duration', 'Rating', 'Popularity', 'Favorites', 'Image URL', 'source_encoded', 'type_encoded', 'status_encoded', 'rating_encoded', 'genres_array', 'genres_vector']\n"
          ]
        }
      ]
    },
    {
      "cell_type": "code",
      "metadata": {
        "colab": {
          "base_uri": "https://localhost:8080/"
        },
        "id": "efedd7ed",
        "outputId": "cd84d0d8-89d8-4263-ff41-c5a99b3f4d6f"
      },
      "source": [
        "from pyspark.sql.functions import col, when, regexp_extract\n",
        "from pyspark.sql.types import DoubleType\n",
        "\n",
        "df_train = df_train.withColumn(\"hours\", regexp_extract(col(\"Duration\"), r\"(\\d+)\\s*hr\", 1).cast(\"int\"))\n",
        "df_train = df_train.withColumn(\"minutes\", regexp_extract(col(\"Duration\"), r\"(\\d+)\\s*min\", 1).cast(\"int\"))\n",
        "df_test = df_test.withColumn(\"hours\", regexp_extract(col(\"Duration\"), r\"(\\d+)\\s*hr\", 1).cast(\"int\"))\n",
        "df_test = df_test.withColumn(\"minutes\", regexp_extract(col(\"Duration\"), r\"(\\d+)\\s*min\", 1).cast(\"int\"))\n",
        "\n",
        "df_train = df_train.fillna(0, subset=[\"hours\", \"minutes\"])\n",
        "df_test = df_test.fillna(0, subset=[\"hours\", \"minutes\"])\n",
        "\n",
        "df_train = df_train.withColumn(\"duration_minutes\", (col(\"hours\") * 60) + col(\"minutes\"))\n",
        "df_test = df_test.withColumn(\"duration_minutes\", (col(\"hours\") * 60) + col(\"minutes\"))\n",
        "\n",
        "df_train = df_train.withColumn(\"Episodes_clean\", col(\"Episodes\").cast(DoubleType()))\n",
        "df_test = df_test.withColumn(\"Episodes_clean\", col(\"Episodes\").cast(DoubleType()))\n",
        "df_train = df_train.fillna(1.0, subset=[\"Episodes_clean\"])\n",
        "df_test = df_test.fillna(1.0, subset=[\"Episodes_clean\"])\n",
        "\n",
        "df_train = df_train.withColumn(\n",
        "    \"duration_minutes\",\n",
        "    when(\n",
        "        col(\"Duration\").contains(\"per ep\"),\n",
        "        col(\"minutes\") * col(\"Episodes_clean\")\n",
        "    ).otherwise(col(\"duration_minutes\"))\n",
        ")\n",
        "df_test = df_test.withColumn(\n",
        "    \"duration_minutes\",\n",
        "    when(\n",
        "        col(\"Duration\").contains(\"per ep\"),\n",
        "        col(\"minutes\") * col(\"Episodes_clean\")\n",
        "    ).otherwise(col(\"duration_minutes\"))\n",
        ")\n",
        "\n",
        "columns_to_drop = [\"Duration\", \"hours\", \"minutes\", \"Episodes_clean\"]\n",
        "df_train = df_train.drop(*columns_to_drop)\n",
        "df_test = df_test.drop(*columns_to_drop)\n",
        "\n",
        "print(\"Verifikasi hasil akhir pada df_train:\")\n",
        "df_train.select(\"Name\", \"duration_minutes\").show(10, truncate=False)"
      ],
      "execution_count": null,
      "outputs": [
        {
          "output_type": "stream",
          "name": "stdout",
          "text": [
            "Verifikasi hasil akhir pada df_train:\n",
            "+-------------------------------+----------------+\n",
            "|Name                           |duration_minutes|\n",
            "+-------------------------------+----------------+\n",
            "|Cowboy Bebop                   |624.0           |\n",
            "|Cowboy Bebop: Tengoku no Tobira|115.0           |\n",
            "|Witch Hunter Robin             |650.0           |\n",
            "|Bouken Ou Beet                 |1196.0          |\n",
            "|Eyeshield 21                   |3335.0          |\n",
            "|Hungry Heart: Wild Striker     |1196.0          |\n",
            "|Monster                        |1776.0          |\n",
            "|Naruto                         |5060.0          |\n",
            "|One Piece                      |24.0            |\n",
            "|Tennis no Ouji-sama            |3916.0          |\n",
            "+-------------------------------+----------------+\n",
            "only showing top 10 rows\n",
            "\n"
          ]
        }
      ]
    },
    {
      "cell_type": "markdown",
      "metadata": {
        "id": "d8135a16"
      },
      "source": [
        "**Reasoning**:\n",
        "Drop the specified columns from both dataframes and display the columns to verify the changes.\n",
        "\n"
      ]
    },
    {
      "cell_type": "code",
      "metadata": {
        "colab": {
          "base_uri": "https://localhost:8080/"
        },
        "id": "32f5524f",
        "outputId": "72804fb8-4ea8-4d90-a8d5-69854587c23e"
      },
      "source": [
        "columns_to_drop_final = [\"Duration\", \"duration_value\", \"duration_unit\"]\n",
        "\n",
        "df_train = df_train.drop(*columns_to_drop_final)\n",
        "df_test = df_test.drop(*columns_to_drop_final)\n",
        "\n",
        "print(\"Columns in df_train after dropping:\")\n",
        "print(df_train.columns)\n",
        "\n",
        "print(\"\\nColumns in df_test after dropping:\")\n",
        "print(df_test.columns)"
      ],
      "execution_count": null,
      "outputs": [
        {
          "output_type": "stream",
          "name": "stdout",
          "text": [
            "Columns in df_train after dropping:\n",
            "['anime_id', 'Name', 'English name', 'Genres', 'Type', 'Episodes', 'Status', 'Studios', 'Source', 'Rating', 'Popularity', 'Favorites', 'Image URL', 'source_encoded', 'type_encoded', 'status_encoded', 'rating_encoded', 'genres_array', 'genres_vector', 'duration_minutes']\n",
            "\n",
            "Columns in df_test after dropping:\n",
            "['anime_id', 'Name', 'English name', 'Genres', 'Type', 'Episodes', 'Status', 'Studios', 'Source', 'Rating', 'Popularity', 'Favorites', 'Image URL', 'source_encoded', 'type_encoded', 'status_encoded', 'rating_encoded', 'genres_array', 'genres_vector', 'duration_minutes']\n"
          ]
        }
      ]
    },
    {
      "cell_type": "markdown",
      "metadata": {
        "id": "9bedc26c"
      },
      "source": [
        "## Summary:\n",
        "\n",
        "### Data Analysis Key Findings\n",
        "*   The numerical value and unit of duration were successfully extracted into separate columns, `duration_value` and `duration_unit`, in both `df_train` and `df_test` dataframes.\n",
        "*   Durations specified in hours (`hr`) were correctly converted to minutes by multiplying by 60.\n",
        "*   Durations specified \"per ep\" were successfully converted to total minutes by multiplying the per-episode duration by the value in the `Episodes` column.\n",
        "*   The `Episodes` column in both dataframes was successfully cast to a double type to enable numerical operations.\n",
        "*   Rows with null values in the `Episodes` or `duration_minutes` columns were removed from both `df_train` and `df_test` dataframes, resulting in zero null counts for these columns.\n",
        "*   The original `Duration` column, along with the intermediate `duration_value` and `duration_unit` columns, were successfully dropped from both dataframes.\n",
        "\n",
        "### Insights or Next Steps\n",
        "*   The dataframes now have a standardized `duration_minutes` column, facilitating direct comparison and analysis of content lengths regardless of their original format.\n",
        "*   The cleaned dataframes with numeric duration and episode information are ready for subsequent feature engineering or model training steps.\n"
      ]
    },
    {
      "cell_type": "code",
      "source": [
        "df_train.show()\n",
        "df_test.show()\n",
        "print(\"Number of rows in df_train after cleaning:\", df_train.count())\n",
        "print(\"Number of rows in df_test after cleaning:\", df_test.count())"
      ],
      "metadata": {
        "colab": {
          "base_uri": "https://localhost:8080/"
        },
        "id": "fzvyqi7h6BOM",
        "outputId": "b40f636e-d23a-4e52-c52f-b795ac597e97"
      },
      "execution_count": null,
      "outputs": [
        {
          "output_type": "stream",
          "name": "stdout",
          "text": [
            "+--------+--------------------+--------------------+--------------------+-----+--------+----------------+--------------------+-----------+--------------------+----------+---------+--------------------+--------------+------------+--------------+--------------+--------------------+--------------------+----------------+\n",
            "|anime_id|                Name|        English name|              Genres| Type|Episodes|          Status|             Studios|     Source|              Rating|Popularity|Favorites|           Image URL|source_encoded|type_encoded|status_encoded|rating_encoded|        genres_array|       genres_vector|duration_minutes|\n",
            "+--------+--------------------+--------------------+--------------------+-----+--------+----------------+--------------------+-----------+--------------------+----------+---------+--------------------+--------------+------------+--------------+--------------+--------------------+--------------------+----------------+\n",
            "|       1|        Cowboy Bebop|        Cowboy Bebop|Action, Award Win...|   TV|    26.0| Finished Airing|             Sunrise|   Original|R - 17+ (violence...|        43|    78525|https://cdn.myani...|           0.0|         0.0|           0.0|           3.0|[Action, Award Wi...|(22,[3,5,15],[1.0...|           624.0|\n",
            "|       5|Cowboy Bebop: Ten...|Cowboy Bebop: The...|      Action, Sci-Fi|Movie|     1.0| Finished Airing|               Bones|   Original|R - 17+ (violence...|       602|     1448|https://cdn.myani...|           0.0|         1.0|           0.0|           3.0|    [Action, Sci-Fi]|(22,[3,5],[1.0,1.0])|           115.0|\n",
            "|       7|  Witch Hunter Robin|  Witch Hunter Robin|Action, Drama, My...|   TV|    26.0| Finished Airing|             Sunrise|   Original|PG-13 - Teens 13 ...|      1795|      613|https://cdn.myani...|           0.0|         0.0|           0.0|           0.0|[Action, Drama, M...|(22,[3,6,9,10],[1...|           650.0|\n",
            "|       8|      Bouken Ou Beet|Beet the Vandel B...|Adventure, Fantas...|   TV|    52.0| Finished Airing|      Toei Animation|      Manga|       PG - Children|      5126|       14|https://cdn.myani...|           1.0|         0.0|           0.0|           2.0|[Adventure, Fanta...|(22,[1,4,9],[1.0,...|          1196.0|\n",
            "|      15|        Eyeshield 21|             UNKNOWN|              Sports|   TV|   145.0| Finished Airing|              Gallop|      Manga|PG-13 - Teens 13 ...|      1252|     1997|https://cdn.myani...|           1.0|         0.0|           0.0|           0.0|            [Sports]|     (22,[13],[1.0])|          3335.0|\n",
            "|      17|Hungry Heart: Wil...|             UNKNOWN|Comedy, Slice of ...|   TV|    52.0| Finished Airing|    Nippon Animation|      Manga|PG-13 - Teens 13 ...|      4212|      237|https://cdn.myani...|           1.0|         0.0|           0.0|           0.0|[Comedy, Slice of...|(22,[0,8,13],[1.0...|          1196.0|\n",
            "|      19|             Monster|             Monster|Drama, Mystery, S...|   TV|    74.0| Finished Airing|            Madhouse|      Manga|    R+ - Mild Nudity|       142|    47235|https://cdn.myani...|           1.0|         0.0|           0.0|           4.0|[Drama, Mystery, ...|(22,[6,10,16],[1....|          1776.0|\n",
            "|      20|              Naruto|              Naruto|Action, Adventure...|   TV|   220.0| Finished Airing|             Pierrot|      Manga|PG-13 - Teens 13 ...|         8|    76343|https://cdn.myani...|           1.0|         0.0|           0.0|           0.0|[Action, Adventur...|(22,[1,3,4],[1.0,...|          5060.0|\n",
            "|      21|           One Piece|           One Piece|Action, Adventure...|   TV| UNKNOWN|Currently Airing|      Toei Animation|      Manga|PG-13 - Teens 13 ...|        20|   198986|https://cdn.myani...|           1.0|         0.0|           2.0|           0.0|[Action, Adventur...|(22,[1,3,4],[1.0,...|            24.0|\n",
            "|      22| Tennis no Ouji-sama|The Prince of Tennis|              Sports|   TV|   178.0| Finished Airing|          Trans Arts|      Manga|PG-13 - Teens 13 ...|      1246|     3004|https://cdn.myani...|           1.0|         0.0|           0.0|           0.0|            [Sports]|     (22,[13],[1.0])|          3916.0|\n",
            "|      24|       School Rumble|       School Rumble|     Comedy, Romance|   TV|    26.0| Finished Airing|        Studio Comet|      Manga|PG-13 - Teens 13 ...|       687|     5139|https://cdn.myani...|           1.0|         0.0|           0.0|           0.0|   [Comedy, Romance]|(22,[0,7],[1.0,1.0])|           598.0|\n",
            "|      25|           Sunabouzu|         Desert Punk|Action, Adventure...|   TV|    24.0| Finished Airing|               Gonzo|      Manga|R - 17+ (violence...|      1546|      822|https://cdn.myani...|           1.0|         0.0|           0.0|           3.0|[Action, Adventur...|(22,[0,3,4,5,12],...|           576.0|\n",
            "|      26|          Texhnolyze|          Texhnolyze|Action, Drama, Sc...|   TV|    22.0| Finished Airing|            Madhouse|   Original|    R+ - Mild Nudity|       935|     4786|https://cdn.myani...|           0.0|         0.0|           0.0|           4.0|[Action, Drama, S...|(22,[3,5,6],[1.0,...|           506.0|\n",
            "|      27|       Trinity Blood|       Trinity Blood|Action, Supernatural|   TV|    24.0| Finished Airing|               Gonzo|Light novel|R - 17+ (violence...|      1233|     1298|https://cdn.myani...|           6.0|         0.0|           0.0|           3.0|[Action, Supernat...|(22,[3,9],[1.0,1.0])|           576.0|\n",
            "|      28|    Yakitate!! Japan|    Yakitate!! Japan|     Comedy, Gourmet|   TV|    69.0| Finished Airing|             Sunrise|      Manga|PG-13 - Teens 13 ...|      1992|      897|https://cdn.myani...|           1.0|         0.0|           0.0|           0.0|   [Comedy, Gourmet]|(22,[0,18],[1.0,1...|          1656.0|\n",
            "|      30|Neon Genesis Evan...|Neon Genesis Evan...|Action, Avant Gar...|   TV|    26.0| Finished Airing|Gainax, Tatsunoko...|   Original|PG-13 - Teens 13 ...|        45|   100638|https://cdn.myani...|           0.0|         0.0|           0.0|           0.0|[Action, Avant Ga...|(22,[3,5,6,11,15,...|           624.0|\n",
            "|      31|Neon Genesis Evan...|Neon Genesis Evan...|       Drama, Sci-Fi|Movie|     1.0| Finished Airing|Gainax, Productio...|   Original|R - 17+ (violence...|       889|      687|https://cdn.myani...|           0.0|         1.0|           0.0|           3.0|     [Drama, Sci-Fi]|(22,[5,6],[1.0,1.0])|           104.0|\n",
            "|      32|Neon Genesis Evan...|Neon Genesis Evan...|Avant Garde, Dram...|Movie|     1.0| Finished Airing|Gainax, Productio...|   Original|    R+ - Mild Nudity|       177|    27272|https://cdn.myani...|           0.0|         1.0|           0.0|           4.0|[Avant Garde, Dra...|(22,[5,6,11],[1.0...|            86.0|\n",
            "|      43|    Koukaku Kidoutai|  Ghost in the Shell|Action, Award Win...|Movie|     1.0| Finished Airing|      Production I.G|      Manga|    R+ - Mild Nudity|       329|    12339|https://cdn.myani...|           1.0|         1.0|           0.0|           4.0|[Action, Award Wi...|(22,[3,5,10,15,16...|            82.0|\n",
            "|      44|Rurouni Kenshin: ...|Samurai X: Trust ...|Action, Drama, Ro...|  OVA|     4.0| Finished Airing|         Studio Deen|      Manga|R - 17+ (violence...|       834|     6137|https://cdn.myani...|           1.0|         2.0|           0.0|           3.0|[Action, Drama, R...|(22,[3,6,7],[1.0,...|           116.0|\n",
            "+--------+--------------------+--------------------+--------------------+-----+--------+----------------+--------------------+-----------+--------------------+----------+---------+--------------------+--------------+------------+--------------+--------------+--------------------+--------------------+----------------+\n",
            "only showing top 20 rows\n",
            "\n",
            "+--------+--------------------+--------------------+--------------------+-----+--------+---------------+----------------+------------+--------------------+----------+---------+--------------------+--------------+------------+--------------+--------------+--------------------+--------------------+----------------+\n",
            "|anime_id|                Name|        English name|              Genres| Type|Episodes|         Status|         Studios|      Source|              Rating|Popularity|Favorites|           Image URL|source_encoded|type_encoded|status_encoded|rating_encoded|        genres_array|       genres_vector|duration_minutes|\n",
            "+--------+--------------------+--------------------+--------------------+-----+--------+---------------+----------------+------------+--------------------+----------+---------+--------------------+--------------+------------+--------------+--------------+--------------------+--------------------+----------------+\n",
            "|       6|              Trigun|              Trigun|Action, Adventure...|   TV|    26.0|Finished Airing|        Madhouse|       Manga|PG-13 - Teens 13 ...|       246|    15035|https://cdn.myani...|           1.0|         0.0|           0.0|           0.0|[Action, Adventur...|(22,[3,4,5],[1.0,...|           624.0|\n",
            "|      16|Hachimitsu to Clover|    Honey and Clover|Comedy, Drama, Ro...|   TV|    24.0|Finished Airing|       J.C.Staff|       Manga|PG-13 - Teens 13 ...|       862|     4136|https://cdn.myani...|           1.0|         0.0|           0.0|           0.0|[Comedy, Drama, R...|(22,[0,6,7],[1.0,...|           552.0|\n",
            "|      18|Initial D Fourth ...|             UNKNOWN|       Action, Drama|   TV|    24.0|Finished Airing|        A.C.G.T.|       Manga|PG-13 - Teens 13 ...|      1273|     1237|https://cdn.myani...|           1.0|         0.0|           0.0|           0.0|     [Action, Drama]|(22,[3,6],[1.0,1.0])|           648.0|\n",
            "|      23|    Ring ni Kakero 1|             UNKNOWN|      Action, Sports|   TV|    12.0|Finished Airing|  Toei Animation|       Manga|       PG - Children|      8288|        6|https://cdn.myani...|           1.0|         0.0|           0.0|           2.0|    [Action, Sports]|(22,[3,13],[1.0,1...|           300.0|\n",
            "|      29|              Zipang|             UNKNOWN|Action, Drama, Sc...|   TV|    26.0|Finished Airing|     Studio Deen|       Manga|PG-13 - Teens 13 ...|      4430|      180|https://cdn.myani...|           1.0|         0.0|           0.0|           0.0|[Action, Drama, S...|(22,[3,5,6],[1.0,...|           624.0|\n",
            "|      33|Kenpuu Denki Berserk|             Berserk|Action, Adventure...|   TV|    25.0|Finished Airing|             OLM|       Manga|    R+ - Mild Nudity|       325|    25404|https://cdn.myani...|           1.0|         0.0|           0.0|           4.0|[Action, Adventur...|(22,[1,3,4,6,14],...|           625.0|\n",
            "|      48|         .hack//Sign|         .hack//Sign|Adventure, Fantas...|   TV|    26.0|Finished Airing|       Bee Train|    Original|PG-13 - Teens 13 ...|      1243|     1343|https://cdn.myani...|           0.0|         0.0|           0.0|           0.0|[Adventure, Fanta...|(22,[1,4,10],[1.0...|           624.0|\n",
            "|      54|   Appleseed (Movie)|             UNKNOWN|Action, Drama, Sc...|Movie|     1.0|Finished Airing|Digital Frontier|       Manga|R - 17+ (violence...|      2370|      170|https://cdn.myani...|           1.0|         1.0|           0.0|           3.0|[Action, Drama, S...|(22,[3,5,6],[1.0,...|           105.0|\n",
            "|      64|        Rozen Maiden|        Rozen Maiden|Action, Comedy, D...|   TV|    12.0|Finished Airing|           Nomad|       Manga|PG-13 - Teens 13 ...|      1120|     1936|https://cdn.myani...|           1.0|         0.0|           0.0|           0.0|[Action, Comedy, ...|(22,[0,3,6],[1.0,...|           288.0|\n",
            "|      65|Rozen Maiden: Trä...|Rozen Maiden: Trä...|Action, Comedy, D...|   TV|    12.0|Finished Airing|           Nomad|       Manga|PG-13 - Teens 13 ...|      1898|      450|https://cdn.myani...|           1.0|         0.0|           0.0|           0.0|[Action, Comedy, ...|(22,[0,3,6],[1.0,...|           288.0|\n",
            "|      66|Azumanga Daiou Th...|Azumanga Daioh: T...|Comedy, Slice of ...|   TV|    26.0|Finished Airing|       J.C.Staff|4-koma manga|PG-13 - Teens 13 ...|       668|     6327|https://cdn.myani...|          10.0|         0.0|           0.0|           0.0|[Comedy, Slice of...|(22,[0,8],[1.0,1.0])|           624.0|\n",
            "|      68|      Black Cat (TV)|           Black Cat|Action, Adventure...|   TV|    23.0|Finished Airing|           Gonzo|       Manga|PG-13 - Teens 13 ...|       846|     1779|https://cdn.myani...|           1.0|         0.0|           0.0|           0.0|[Action, Adventur...|(22,[3,4,5],[1.0,...|           552.0|\n",
            "|      71|   Full Metal Panic!|   Full Metal Panic!|Action, Comedy, S...|   TV|    24.0|Finished Airing|           Gonzo| Light novel|R - 17+ (violence...|       422|     4326|https://cdn.myani...|           6.0|         0.0|           0.0|           3.0|[Action, Comedy, ...|(22,[0,3,5],[1.0,...|           576.0|\n",
            "|      75|Soukyuu no Fafner...|              Fafner|Action, Drama, Sc...|   TV|    25.0|Finished Airing|           Xebec|    Original|PG-13 - Teens 13 ...|      3000|      260|https://cdn.myani...|           0.0|         0.0|           0.0|           0.0|[Action, Drama, S...|(22,[3,5,6],[1.0,...|           600.0|\n",
            "|      83|Kidou Senshi Gund...|Mobile Suit Gunda...|Drama, Romance, S...|Movie|     1.0|Finished Airing|         Sunrise|    Original|PG-13 - Teens 13 ...|      5384|        3|https://cdn.myani...|           0.0|         1.0|           0.0|           0.0|[Drama, Romance, ...|(22,[5,6,7],[1.0,...|            52.0|\n",
            "|      90|Shin Kidou Senki ...|Mobile Suit Gunda...|Action, Drama, Sc...|   TV|    49.0|Finished Airing|         Sunrise|    Original|PG-13 - Teens 13 ...|      1391|     2334|https://cdn.myani...|           0.0|         0.0|           0.0|           0.0|[Action, Drama, S...|(22,[3,5,6],[1.0,...|          1176.0|\n",
            "|      98|            Mai-HiME|             My-Hime|Action, Fantasy, ...|   TV|    26.0|Finished Airing|         Sunrise|    Original|PG-13 - Teens 13 ...|      1781|     1146|https://cdn.myani...|           0.0|         0.0|           0.0|           0.0|[Action, Fantasy,...|(22,[1,3,19],[1.0...|           598.0|\n",
            "|     121| Fullmetal Alchemist| Fullmetal Alchemist|Action, Adventure...|   TV|    51.0|Finished Airing|           Bones|       Manga|R - 17+ (violence...|        76|    25502|https://cdn.myani...|           1.0|         0.0|           0.0|           3.0|[Action, Adventur...|(22,[1,3,4,6,15],...|          1224.0|\n",
            "|     133|         Green Green|         Green Green|Comedy, Romance, ...|   TV|    12.0|Finished Airing|   Studio Matrix|Visual novel|    R+ - Mild Nudity|      1750|      221|https://cdn.myani...|           4.0|         0.0|           0.0|           4.0|[Comedy, Romance,...|(22,[0,7,12],[1.0...|           288.0|\n",
            "|     137|Hunter x Hunter: ...|             UNKNOWN|Action, Adventure...|  OVA|     8.0|Finished Airing|Nippon Animation|       Manga|PG-13 - Teens 13 ...|      1673|      395|https://cdn.myani...|           1.0|         2.0|           0.0|           0.0|[Action, Adventur...|(22,[1,3,4],[1.0,...|           192.0|\n",
            "+--------+--------------------+--------------------+--------------------+-----+--------+---------------+----------------+------------+--------------------+----------+---------+--------------------+--------------+------------+--------------+--------------+--------------------+--------------------+----------------+\n",
            "only showing top 20 rows\n",
            "\n",
            "Number of rows in df_train after cleaning: 18702\n",
            "Number of rows in df_test after cleaning: 4654\n"
          ]
        }
      ]
    },
    {
      "cell_type": "code",
      "metadata": {
        "colab": {
          "base_uri": "https://localhost:8080/"
        },
        "id": "194adc78",
        "outputId": "dc8d110e-1173-4d22-f4f1-718bc1ead4c5"
      },
      "source": [
        "df_train.printSchema()"
      ],
      "execution_count": null,
      "outputs": [
        {
          "output_type": "stream",
          "name": "stdout",
          "text": [
            "root\n",
            " |-- anime_id: integer (nullable = true)\n",
            " |-- Name: string (nullable = true)\n",
            " |-- English name: string (nullable = true)\n",
            " |-- Genres: string (nullable = true)\n",
            " |-- Type: string (nullable = true)\n",
            " |-- Episodes: string (nullable = true)\n",
            " |-- Status: string (nullable = true)\n",
            " |-- Studios: string (nullable = true)\n",
            " |-- Source: string (nullable = true)\n",
            " |-- Rating: string (nullable = true)\n",
            " |-- Popularity: integer (nullable = true)\n",
            " |-- Favorites: integer (nullable = true)\n",
            " |-- Image URL: string (nullable = true)\n",
            " |-- source_encoded: double (nullable = false)\n",
            " |-- type_encoded: double (nullable = false)\n",
            " |-- status_encoded: double (nullable = false)\n",
            " |-- rating_encoded: double (nullable = false)\n",
            " |-- genres_array: array (nullable = true)\n",
            " |    |-- element: string (containsNull = false)\n",
            " |-- genres_vector: vector (nullable = true)\n",
            " |-- duration_minutes: double (nullable = true)\n",
            "\n"
          ]
        }
      ]
    },
    {
      "cell_type": "code",
      "metadata": {
        "colab": {
          "base_uri": "https://localhost:8080/"
        },
        "id": "a8abfc6e",
        "outputId": "82d4d5d6-f125-4263-96ad-1120478b1376"
      },
      "source": [
        "from pyspark.ml import Pipeline\n",
        "from pyspark.sql.functions import col\n",
        "from pyspark.ml.feature import VectorAssembler, StandardScaler\n",
        "\n",
        "df_train = df_train.withColumn(\"Popularity\", col(\"Popularity\").cast(\"int\"))\n",
        "df_test = df_test.withColumn(\"Popularity\", col(\"Popularity\").cast(\"int\"))\n",
        "df_train = df_train.withColumn(\"Favorites\", col(\"Favorites\").cast(\"int\"))\n",
        "df_test = df_test.withColumn(\"Favorites\", col(\"Favorites\").cast(\"int\"))\n",
        "\n",
        "df_train = df_train.withColumn(\"anime_id_int\", col(\"anime_id\").cast(\"int\"))\n",
        "df_test = df_test.withColumn(\"anime_id_int\", col(\"anime_id\").cast(\"int\"))\n",
        "\n",
        "df_train = df_train.filter(col(\"anime_id_int\").isNotNull())\n",
        "df_test = df_test.filter(col(\"anime_id_int\").isNotNull())\n",
        "\n",
        "\n",
        "numeric_features = [\"Popularity\", \"Favorites\", \"duration_minutes\"]\n",
        "numeric_assembler = VectorAssembler(inputCols=numeric_features, outputCol=\"numeric_features_vector\")\n",
        "\n",
        "scaler = StandardScaler(inputCol=\"numeric_features_vector\", outputCol=\"scaled_numeric_features_vector\",\n",
        "                        withStd=True, withMean=False)\n",
        "\n",
        "encoded_features = [\"source_encoded\", \"type_encoded\", \"status_encoded\", \"rating_encoded\", \"genres_vector\"]\n",
        "final_assembler = VectorAssembler(inputCols=[\"scaled_numeric_features_vector\"] + encoded_features, outputCol=\"features\")\n",
        "\n",
        "pipeline = Pipeline(stages=[numeric_assembler, scaler, final_assembler])\n",
        "\n",
        "pipeline_model = pipeline.fit(df_train)\n",
        "\n",
        "df_train_featured = pipeline_model.transform(df_train)\n",
        "df_test_featured = pipeline_model.transform(df_test)\n",
        "\n",
        "print(\"Schema after final feature engineering:\")\n",
        "df_train_featured.printSchema()\n",
        "\n",
        "print(\"\\nDataframe df_train_featured with 'features' column:\")\n",
        "df_train_featured.select(\"features\").show(5, truncate=False)\n",
        "\n",
        "print(\"\\nDataframe df_test_featured with 'features' column:\")\n",
        "df_test_featured.select(\"features\").show(5, truncate=False)"
      ],
      "execution_count": null,
      "outputs": [
        {
          "output_type": "stream",
          "name": "stdout",
          "text": [
            "Schema after final feature engineering:\n",
            "root\n",
            " |-- anime_id: integer (nullable = true)\n",
            " |-- Name: string (nullable = true)\n",
            " |-- English name: string (nullable = true)\n",
            " |-- Genres: string (nullable = true)\n",
            " |-- Type: string (nullable = true)\n",
            " |-- Episodes: string (nullable = true)\n",
            " |-- Status: string (nullable = true)\n",
            " |-- Studios: string (nullable = true)\n",
            " |-- Source: string (nullable = true)\n",
            " |-- Rating: string (nullable = true)\n",
            " |-- Popularity: integer (nullable = true)\n",
            " |-- Favorites: integer (nullable = true)\n",
            " |-- Image URL: string (nullable = true)\n",
            " |-- source_encoded: double (nullable = false)\n",
            " |-- type_encoded: double (nullable = false)\n",
            " |-- status_encoded: double (nullable = false)\n",
            " |-- rating_encoded: double (nullable = false)\n",
            " |-- genres_array: array (nullable = true)\n",
            " |    |-- element: string (containsNull = false)\n",
            " |-- genres_vector: vector (nullable = true)\n",
            " |-- duration_minutes: double (nullable = true)\n",
            " |-- anime_id_int: integer (nullable = true)\n",
            " |-- numeric_features_vector: vector (nullable = true)\n",
            " |-- scaled_numeric_features_vector: vector (nullable = true)\n",
            " |-- features: vector (nullable = true)\n",
            "\n",
            "\n",
            "Dataframe df_train_featured with 'features' column:\n",
            "+---------------------------------------------------------------------------------------------------------+\n",
            "|features                                                                                                 |\n",
            "+---------------------------------------------------------------------------------------------------------+\n",
            "|(29,[0,1,2,6,10,12,22],[0.005875957012349641,18.40313635797382,0.9814020914988377,3.0,1.0,1.0,1.0])      |\n",
            "|(29,[0,1,2,4,6,10,12],[0.08226339817289496,0.33935360008081616,0.18086737263199734,1.0,3.0,1.0,1.0])     |\n",
            "|(29,[0,1,2,10,13,16,17],[0.245287042724828,0.1436628155038262,1.0222938453112893,1.0,1.0,1.0,1.0])       |\n",
            "|(29,[0,1,2,3,6,8,11,16],[0.7004687359373083,0.003281043094704024,1.8810206753727723,1.0,2.0,1.0,1.0,1.0])|\n",
            "|(29,[0,1,2,3,20],[0.17108600417352907,0.468017361437424,5.245153806327923,1.0,1.0])                      |\n",
            "+---------------------------------------------------------------------------------------------------------+\n",
            "only showing top 5 rows\n",
            "\n",
            "\n",
            "Dataframe df_test_featured with 'features' column:\n",
            "+-----------------------------------------------------------------------------------------------------+\n",
            "|features                                                                                             |\n",
            "+-----------------------------------------------------------------------------------------------------+\n",
            "|(29,[0,1,2,3,10,11,12],[0.03361594011716306,3.5236059234910715,0.9814020914988377,1.0,1.0,1.0,1.0])  |\n",
            "|(29,[0,1,2,3,7,13,14],[0.11779244057314861,0.9693138742639887,0.8681633886335872,1.0,1.0,1.0,1.0])   |\n",
            "|(29,[0,1,2,3,10,13],[0.17395565759816492,0.2899035934392055,1.0191483257872547,1.0,1.0,1.0])         |\n",
            "|(29,[0,1,2,3,6,10,20],[1.1325565515896237,0.0014061613263017245,0.47182792860521044,1.0,2.0,1.0,1.0])|\n",
            "|(29,[0,1,2,3,10,12,13],[0.6053602224350908,0.042184839789051735,0.9814020914988377,1.0,1.0,1.0,1.0]) |\n",
            "+-----------------------------------------------------------------------------------------------------+\n",
            "only showing top 5 rows\n",
            "\n"
          ]
        }
      ]
    },
    {
      "cell_type": "code",
      "source": [
        "from pyspark.ml.clustering import KMeans\n",
        "from pyspark.ml.evaluation import ClusteringEvaluator\n",
        "\n",
        "kmeans = KMeans(featuresCol='features', k=1000, seed=42)\n",
        "\n",
        "print(\"Melatih model K-Means...\")\n",
        "model = kmeans.fit(df_train_featured)\n",
        "\n",
        "print(\"Mengevaluasi model pada data test...\")\n",
        "predictions = model.transform(df_test_featured)\n",
        "\n",
        "evaluator = ClusteringEvaluator()\n",
        "silhouette = evaluator.evaluate(predictions)\n",
        "print(f\"Silhouette Score (on test data): {silhouette}\")\n",
        "\n",
        "print(\"\\nHasil prediksi cluster untuk data test:\")\n",
        "predictions.select(\"Name\", \"Genres\", \"prediction\").show(20)"
      ],
      "metadata": {
        "colab": {
          "base_uri": "https://localhost:8080/"
        },
        "id": "Hb7pNPbgHfNW",
        "outputId": "9bdf08dd-83ae-45d3-97d5-3dfe17d14d79"
      },
      "execution_count": null,
      "outputs": [
        {
          "output_type": "stream",
          "name": "stdout",
          "text": [
            "Melatih model K-Means...\n",
            "Mengevaluasi model pada data test...\n",
            "Silhouette Score (on test data): 0.26549338247315646\n",
            "\n",
            "Hasil prediksi cluster untuk data test:\n",
            "+--------------------+--------------------+----------+\n",
            "|                Name|              Genres|prediction|\n",
            "+--------------------+--------------------+----------+\n",
            "|              Trigun|Action, Adventure...|       966|\n",
            "|Hachimitsu to Clover|Comedy, Drama, Ro...|       885|\n",
            "|Initial D Fourth ...|       Action, Drama|        50|\n",
            "|    Ring ni Kakero 1|      Action, Sports|       123|\n",
            "|              Zipang|Action, Drama, Sc...|        50|\n",
            "|Kenpuu Denki Berserk|Action, Adventure...|       122|\n",
            "|         .hack//Sign|Adventure, Fantas...|       666|\n",
            "|   Appleseed (Movie)|Action, Drama, Sc...|       750|\n",
            "|        Rozen Maiden|Action, Comedy, D...|        50|\n",
            "|Rozen Maiden: Trä...|Action, Comedy, D...|        50|\n",
            "|Azumanga Daiou Th...|Comedy, Slice of ...|       611|\n",
            "|      Black Cat (TV)|Action, Adventure...|       837|\n",
            "|   Full Metal Panic!|Action, Comedy, S...|       187|\n",
            "|Soukyuu no Fafner...|Action, Drama, Sc...|       659|\n",
            "|Kidou Senshi Gund...|Drama, Romance, S...|       447|\n",
            "|Shin Kidou Senki ...|Action, Drama, Sc...|       837|\n",
            "|            Mai-HiME|Action, Fantasy, ...|       823|\n",
            "| Fullmetal Alchemist|Action, Adventure...|       290|\n",
            "|         Green Green|Comedy, Romance, ...|       682|\n",
            "|Hunter x Hunter: ...|Action, Adventure...|       470|\n",
            "+--------------------+--------------------+----------+\n",
            "only showing top 20 rows\n",
            "\n"
          ]
        }
      ]
    },
    {
      "cell_type": "code",
      "source": [
        "from pyspark.sql.functions import col\n",
        "\n",
        "def get_recommendations(anime_name: str, full_dataset, model):\n",
        "    \"\"\"\n",
        "    Fungsi untuk mencari anime yang mirip berdasarkan cluster K-Means.\n",
        "\n",
        "    Args:\n",
        "        anime_name (str): Nama anime yang ingin dicari (bisa sebagian).\n",
        "        full_dataset: DataFrame gabungan yang berisi semua data.\n",
        "        model: Model K-Means yang sudah dilatih.\n",
        "    \"\"\"\n",
        "    print(\"-\" * 50)\n",
        "    print(f\"Mencari rekomendasi untuk: '{anime_name}'\")\n",
        "\n",
        "    possible_matches = full_dataset.filter(col(\"Name\").like(f\"%{anime_name}%\")).select(\"Name\").distinct()\n",
        "\n",
        "    if possible_matches.count() == 0:\n",
        "        print(f\"Hasil: Tidak ada anime yang cocok dengan '{anime_name}' ditemukan.\")\n",
        "        return\n",
        "\n",
        "    exact_name = possible_matches.first()[\"Name\"]\n",
        "    target_anime_features = full_dataset.filter(col(\"Name\") == exact_name).select(\"features\").first()\n",
        "\n",
        "    if not target_anime_features:\n",
        "        print(f\"Tidak dapat menemukan fitur untuk '{exact_name}'.\")\n",
        "        return\n",
        "\n",
        "    target_df = spark.createDataFrame([target_anime_features])\n",
        "    target_cluster_id = model.transform(target_df).select(\"prediction\").first()[0]\n",
        "\n",
        "    print(f\"Anime ditemukan: '{exact_name}' (Cluster: {target_cluster_id})\")\n",
        "\n",
        "    df_train_predictions = model.transform(df_train_featured)\n",
        "    df_test_predictions = model.transform(df_test_featured)\n",
        "    all_predictions = df_train_predictions.unionByName(df_test_predictions)\n",
        "\n",
        "    recommendations = all_predictions.filter(\n",
        "        (col(\"prediction\") == target_cluster_id) &\n",
        "        (col(\"Name\") != exact_name)\n",
        "    ).select(\"Name\", \"Genres\")\n",
        "\n",
        "    if recommendations.count() == 0:\n",
        "        print(\"Hasil: Tidak ada rekomendasi lain yang ditemukan di cluster ini.\")\n",
        "    else:\n",
        "        print(\"\\nRekomendasi:\")\n",
        "        recommendations.show(truncate=False)"
      ],
      "metadata": {
        "id": "B7DkGP8pRIyy"
      },
      "execution_count": null,
      "outputs": []
    },
    {
      "cell_type": "code",
      "source": [
        "\n",
        "df_combined = df_train_featured.unionByName(df_test_featured)\n",
        "\n",
        "get_recommendations(\"High School DxD\", df_combined, model)"
      ],
      "metadata": {
        "colab": {
          "base_uri": "https://localhost:8080/"
        },
        "id": "qz-YaudeRKlf",
        "outputId": "aeaddbb8-3720-48b4-c19c-7f66c196e3ab"
      },
      "execution_count": null,
      "outputs": [
        {
          "output_type": "stream",
          "name": "stdout",
          "text": [
            "--------------------------------------------------\n",
            "Mencari rekomendasi untuk: 'High School DxD'\n",
            "Anime ditemukan: 'High School DxD' (Cluster: 544)\n",
            "\n",
            "Rekomendasi:\n",
            "+-------------------------------------------------------+---------------------------------------+\n",
            "|Name                                                   |Genres                                 |\n",
            "+-------------------------------------------------------+---------------------------------------+\n",
            "|Baccano!                                               |Action, Comedy, Mystery, Supernatural  |\n",
            "|Yojouhan Shinwa Taikei                                 |Award Winning, Comedy, Mystery, Romance|\n",
            "|Youjo Senki                                            |Action, Fantasy                        |\n",
            "|Re:Zero kara Hajimeru Isekai Seikatsu 2nd Season       |Drama, Fantasy, Suspense               |\n",
            "|86                                                     |Action, Drama, Sci-Fi                  |\n",
            "|Re:Zero kara Hajimeru Isekai Seikatsu 2nd Season Part 2|Drama, Fantasy, Suspense               |\n",
            "|Mushoku Tensei: Isekai Ittara Honki Dasu Part 2        |Drama, Fantasy, Ecchi                  |\n",
            "|Kage no Jitsuryokusha ni Naritakute!                   |Action, Comedy, Fantasy                |\n",
            "|86 Part 2                                              |Action, Drama, Sci-Fi                  |\n",
            "|Perfect Blue                                           |Avant Garde, Drama, Horror             |\n",
            "|Another                                                |Horror, Mystery, Supernatural          |\n",
            "|Fate/Zero 2nd Season                                   |Action, Fantasy, Supernatural          |\n",
            "+-------------------------------------------------------+---------------------------------------+\n",
            "\n"
          ]
        }
      ]
    },
    {
      "cell_type": "code",
      "source": [
        "from pyspark.ml.feature import VectorAssembler\n",
        "from pyspark.ml.clustering import KMeans\n",
        "\n",
        "genre_assembler = VectorAssembler(inputCols=[\"genres_vector\"], outputCol=\"genre_features\")\n",
        "\n",
        "df_train_genre_featured = genre_assembler.transform(df_train_featured)\n",
        "df_test_genre_featured = genre_assembler.transform(df_test_featured)\n",
        "\n",
        "kmeans_genre = KMeans(featuresCol='genre_features', k=250, seed=42)\n",
        "model_genre = kmeans_genre.fit(df_train_genre_featured)\n"
      ],
      "metadata": {
        "id": "Ars6WeIMSRTz"
      },
      "execution_count": null,
      "outputs": []
    },
    {
      "cell_type": "code",
      "source": [
        "from pyspark.ml.feature import Normalizer\n",
        "from pyspark.ml.linalg import Vectors\n",
        "from pyspark.sql.functions import col, udf\n",
        "from pyspark.sql.types import FloatType\n",
        "\n",
        "data_for_similarity = genre_assembler.transform(df_combined)\n",
        "normalizer = Normalizer(inputCol=\"features\", outputCol=\"normFeatures\", p=2.0)\n",
        "data_normalized = normalizer.transform(data_for_similarity)\n",
        "\n",
        "target_vector = data_normalized.filter(col(\"Name\") == \"Date A Live\").select(\"normFeatures\").first()[0]\n",
        "\n",
        "dot_product_udf = udf(lambda x: float(x.dot(target_vector)), FloatType())\n",
        "\n",
        "similarity_df = data_normalized.withColumn(\"similarity\", dot_product_udf(col(\"normFeatures\")))\n",
        "\n",
        "print(\"Rekomendasi berdasarkan Cosine Similarity (lebih spesifik):\")\n",
        "similarity_df.orderBy(\"similarity\", ascending=False).select(\"Name\", \"Genres\", \"similarity\").show(truncate=False)"
      ],
      "metadata": {
        "colab": {
          "base_uri": "https://localhost:8080/"
        },
        "id": "L-ft05kVReay",
        "outputId": "8d86ef34-f984-42c4-9bf3-9f04514911d1"
      },
      "execution_count": null,
      "outputs": [
        {
          "output_type": "stream",
          "name": "stdout",
          "text": [
            "Rekomendasi berdasarkan Cosine Similarity (lebih spesifik):\n",
            "+---------------------------------------------------------------------------------------------------------+---------------------------------------+----------+\n",
            "|Name                                                                                                     |Genres                                 |similarity|\n",
            "+---------------------------------------------------------------------------------------------------------+---------------------------------------+----------+\n",
            "|Date A Live                                                                                              |Romance, Sci-Fi                        |1.0       |\n",
            "|Date A Live IV                                                                                           |Action, Romance, Sci-Fi                |0.96977186|\n",
            "|Katanagatari                                                                                             |Action, Adventure, Romance             |0.9695549 |\n",
            "|Gosick                                                                                                   |Drama, Mystery, Romance                |0.9685412 |\n",
            "|86 Part 2                                                                                                |Action, Drama, Sci-Fi                  |0.9675635 |\n",
            "|Date A Live II                                                                                           |Action, Romance, Sci-Fi                |0.96169436|\n",
            "|Rakudai Kishi no Cavalry                                                                                 |Action, Fantasy, Romance, Ecchi        |0.9615773 |\n",
            "|No.6                                                                                                     |Action, Drama, Mystery, Sci-Fi         |0.96089697|\n",
            "|Toaru Majutsu no Index                                                                                   |Action, Fantasy, Sci-Fi                |0.9607574 |\n",
            "|Youjo Senki                                                                                              |Action, Fantasy                        |0.96020937|\n",
            "|Ishuzoku Reviewers                                                                                       |Comedy, Fantasy, Ecchi                 |0.96019596|\n",
            "|Date A Live III                                                                                          |Action, Romance, Sci-Fi                |0.95718014|\n",
            "|Full Metal Panic!                                                                                        |Action, Comedy, Sci-Fi                 |0.95477426|\n",
            "|Yojouhan Shinwa Taikei                                                                                   |Award Winning, Comedy, Mystery, Romance|0.9542995 |\n",
            "|Maou Gakuin no Futekigousha: Shijou Saikyou no Maou no Shiso, Tensei shite Shison-tachi no Gakkou e Kayou|Action, Fantasy                        |0.95310813|\n",
            "|Black Bullet                                                                                             |Action, Mystery, Sci-Fi                |0.9528617 |\n",
            "|Kage no Jitsuryokusha ni Naritakute!                                                                     |Action, Comedy, Fantasy                |0.95229316|\n",
            "|One Punch Man 2nd Season                                                                                 |Action, Comedy                         |0.9521938 |\n",
            "|Re:Zero kara Hajimeru Isekai Seikatsu 2nd Season                                                         |Drama, Fantasy, Suspense               |0.9520376 |\n",
            "|86                                                                                                       |Action, Drama, Sci-Fi                  |0.95182776|\n",
            "+---------------------------------------------------------------------------------------------------------+---------------------------------------+----------+\n",
            "only showing top 20 rows\n",
            "\n"
          ]
        }
      ]
    },
    {
      "cell_type": "code",
      "source": [
        "model_genre.save(\"./model_kmeans_genre\")\n",
        "genre_assembler.save(\"./assembler_genre\")\n",
        "df_combined.select(\"Name\", \"Genres\").write.parquet(\"./anime_data.parquet\")"
      ],
      "metadata": {
        "id": "wxglleyjk0lc"
      },
      "execution_count": null,
      "outputs": []
    }
  ]
}